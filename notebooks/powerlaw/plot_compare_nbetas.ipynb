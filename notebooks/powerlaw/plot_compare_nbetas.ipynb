{
 "cells": [
  {
   "cell_type": "markdown",
   "id": "ca770394-54cc-4d92-9dea-9c719e26b3b9",
   "metadata": {},
   "source": [
    "# Fitting Powerlaws"
   ]
  },
  {
   "cell_type": "code",
   "execution_count": null,
   "id": "4df29246-8393-4075-8feb-79b46670a7ba",
   "metadata": {},
   "outputs": [],
   "source": [
    "%load_ext autoreload\n",
    "%autoreload 2\n",
    "import numpy as np\n",
    "import pandas as pd\n",
    "import plotly.graph_objects as go\n",
    "from plotly.subplots import make_subplots\n",
    "\n",
    "from lsoc.powerlaw import fit, data, vis\n"
   ]
  },
  {
   "cell_type": "markdown",
   "id": "1189b5ef-b105-4be8-95ee-5f9cf6a425c8",
   "metadata": {},
   "source": [
    "# Load Data\n",
    "\n"
   ]
  },
  {
   "cell_type": "code",
   "execution_count": null,
   "id": "45881780-23de-42d1-b8bf-5c16e72f40ca",
   "metadata": {},
   "outputs": [],
   "source": [
    "model = \"160m\"\n",
    "df_llc_nb10, df_loss = data.load_dfs(f\"{model}-nb\")\n",
    "df_llc_orig, _ = data.load_dfs(model)\n"
   ]
  },
  {
   "cell_type": "code",
   "execution_count": null,
   "id": "fdb27077-cebc-4075-b328-f230b7504ea3",
   "metadata": {},
   "outputs": [],
   "source": [
    "# Just plot the differences?\n",
    "analysis_interval = 2000, 70000\n",
    "\n",
    "fig = go.Figure()\n",
    "tasks = df_llc_nb10.columns\n",
    "colors = vis.assign_cols(tasks)\n",
    "for task in tasks:\n",
    "    col = colors[task]\n",
    "    faded = vis.fade(col)\n",
    "    full_curve = data.trim_trace(df_llc_orig, df_loss, task)\n",
    "    vis.plot_data(fig, *full_curve, color=faded, mode=\"lines\")\n",
    "    interval = data.trim_trace(df_llc_orig, df_loss, task, *analysis_interval)\n",
    "    vis.plot_data(fig, *interval, color=col, name=f\"{task}-original\", mode=\"lines+markers\")\n",
    "\n",
    "    \n",
    "    new_curve = data.trim_trace(df_llc_nb10, df_loss, task)\n",
    "    vis.plot_data(fig, *new_curve, color=faded, mode=\"lines\")\n",
    "    new_interval = data.trim_trace(df_llc_nb10, df_loss, task, *analysis_interval)\n",
    "    vis.plot_data(fig, *new_interval, color=col, name=f\"{task}-nbeta=10\", mode=\"lines+markers\")\n",
    "    \n",
    "fig.update_xaxes(title_text=vis.llc_desc)\n",
    "fig.update_yaxes(title_text=vis.loss_desc)\n",
    "fig.update_layout(width=1000, height=800, title=f\"Pythia {model} Original and with nbeta=10\")\n",
    "fig.show()"
   ]
  },
  {
   "cell_type": "markdown",
   "id": "e7ee0af4-4ed1-40fa-9f5c-2f2f5926d884",
   "metadata": {},
   "source": [
    "# Fit powerlaws"
   ]
  },
  {
   "cell_type": "code",
   "execution_count": null,
   "id": "fe7ea17a-d2ab-44ab-b1a7-7c22576cc142",
   "metadata": {},
   "outputs": [],
   "source": [
    "fig = go.Figure()\n",
    "report = []  # store parameters\n",
    "\n",
    "for task in tasks:\n",
    "    color = colors[task]\n",
    "    llc, loss, step = trace = data.trim_trace(df_llc_nb10, df_loss, task, *analysis_interval)\n",
    "    result = fit.min_fit(llc, loss, fit.OffsetPowerLaw)\n",
    "    shift = None  # set to result.params_dict if you want Dan's transformed style\n",
    "    \n",
    "    vis.plot_data(fig, *trace, color=color, shift=shift)\n",
    "    vis.plot_result(fig, llc, result, color=color, name=task,\n",
    "                    showlegend=True, shift=shift)\n",
    "\n",
    "    report_row = {\n",
    "        \"dataset\": task,\n",
    "        \"L*\": result.params_dict[\"y*\"],\n",
    "        \"r\": result.params_dict[\"r\"],\n",
    "        \"fit_r2\": fit.r2_score(loss, result.f(llc))\n",
    "    }   \n",
    "    \n",
    "\n",
    "    # Compare with original on same interval\n",
    "    llc, loss, step = trace = data.trim_trace(df_llc_orig, df_loss, task, *analysis_interval)\n",
    "    result_o = fit.min_fit(llc, loss, fit.OffsetPowerLaw)\n",
    "    report_row.update({\n",
    "        \"Original L*\": result_o.params_dict[\"y*\"],\n",
    "        \"Original r\": result_o.params_dict[\"r\"],\n",
    "        #\"Original fit_r2\": fit.r2_score(loss, result_o.f(llc))\n",
    "    })\n",
    "    \n",
    "    report.append(report_row)\n",
    "\n",
    "fig.update_layout(width=800, height=600, title=f\"Pythia-{model} Power Laws with nbeta=10\")\n",
    "fig.update_xaxes(title_text=vis.llc_desc)\n",
    "fig.update_yaxes(title_text=vis.loss_desc)\n",
    "fig.show()\n",
    "pd.DataFrame(report)"
   ]
  },
  {
   "cell_type": "code",
   "execution_count": null,
   "id": "2389b36d-31b8-4618-82da-745bf6f69f96",
   "metadata": {},
   "outputs": [],
   "source": [
    "# It occurs to me,\n",
    "# The loss vs step is the same, and fits pretty well to a power law itself\n",
    "# what we're seeing in common is a logarithmic growth in LLC through this analysis interval\n",
    "\n",
    "# Just plot the differences?\n",
    "analysis_interval = 2000, 70000\n",
    "\n",
    "fig = go.Figure()\n",
    "tasks = df_llc_nb10.columns\n",
    "colors = vis.assign_cols(tasks)\n",
    "\n",
    "# Something wrong here\n",
    "\n",
    "for task in tasks:\n",
    "    col = colors[task]\n",
    "    faded = vis.fade(col)\n",
    "    \n",
    "    # llc, loss, step = dat.trim_trace(df_llc_orig, df_loss, task, *analysis_interval)\n",
    "    # vis.plot_data(fig, step, llc, step, color=faded, name=f\"{task}-original\", mode=\"lines+markers\")\n",
    "    llc, loss, step = data.trim_trace(df_llc_nb10, df_loss, task)\n",
    "    vis.plot_data(fig, step, llc, step, color=faded, mode=\"lines+markers\")\n",
    "    \n",
    "    llc, loss, step = data.trim_trace(df_llc_nb10, df_loss, task, *analysis_interval)\n",
    "    vis.plot_data(fig, step, llc, step, color=col, name=f\"{task}-nbeta=10\", mode=\"lines+markers\")\n",
    "    \n",
    "fig.update_xaxes(title_text=\"step\")\n",
    "fig.update_yaxes(title_text=vis.llc_desc)\n",
    "fig.update_layout(\n",
    "    title = \"LLC vs time\",\n",
    "    xaxis=dict(type='log'),\n",
    "    width=800,\n",
    "    height=600,\n",
    "    #yaxis=dict(type='log'),\n",
    ")\n",
    "fig.show()\n"
   ]
  },
  {
   "cell_type": "code",
   "execution_count": null,
   "id": "8027df29-eeb2-402e-a764-87b61351f1dc",
   "metadata": {},
   "outputs": [],
   "source": []
  }
 ],
 "metadata": {
  "kernelspec": {
   "display_name": "Python 3 (ipykernel)",
   "language": "python",
   "name": "python3"
  },
  "language_info": {
   "codemirror_mode": {
    "name": "ipython",
    "version": 3
   },
   "file_extension": ".py",
   "mimetype": "text/x-python",
   "name": "python",
   "nbconvert_exporter": "python",
   "pygments_lexer": "ipython3",
   "version": "3.13.2"
  }
 },
 "nbformat": 4,
 "nbformat_minor": 5
}
