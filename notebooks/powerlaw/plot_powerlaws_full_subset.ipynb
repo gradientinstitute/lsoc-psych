{
 "cells": [
  {
   "cell_type": "markdown",
   "id": "ca770394-54cc-4d92-9dea-9c719e26b3b9",
   "metadata": {},
   "source": [
    "# Fitting Powerlaws"
   ]
  },
  {
   "cell_type": "code",
   "execution_count": null,
   "id": "4df29246-8393-4075-8feb-79b46670a7ba",
   "metadata": {},
   "outputs": [],
   "source": [
    "%load_ext autoreload\n",
    "%autoreload 2\n",
    "import numpy as np\n",
    "import fitting as fit\n",
    "import data_utils as dat\n",
    "import pandas as pd\n",
    "import vis\n",
    "import plotly.graph_objects as go\n",
    "from plotly.subplots import make_subplots\n",
    "import pickle"
   ]
  },
  {
   "cell_type": "markdown",
   "id": "5c7580c6-5ad7-4b22-99f7-d1b66f6a657f",
   "metadata": {},
   "source": [
    "# Data\n",
    "\n",
    "Get your data into two dataframes:\n",
    "* df_llc\n",
    "* df_loss\n",
    "\n",
    "For both:\n",
    "* index is step\n",
    "* columns are datasets\n"
   ]
  },
  {
   "cell_type": "code",
   "execution_count": null,
   "id": "45881780-23de-42d1-b8bf-5c16e72f40ca",
   "metadata": {},
   "outputs": [],
   "source": [
    "model_name = \"pythia-410m\"\n",
    "df_llc, df_loss = dat.load_dfs(\"410m\", data_path=\"data\")\n",
    "\n"
   ]
  },
  {
   "cell_type": "markdown",
   "id": "e1912e52-f462-4cfe-90f7-3ef3bcd5091f",
   "metadata": {},
   "source": [
    "# Confirm the analysis interval"
   ]
  },
  {
   "cell_type": "code",
   "execution_count": null,
   "id": "428784ed-bf4e-48d7-9921-3fe2f6f441d6",
   "metadata": {},
   "outputs": [],
   "source": [
    "# Plot the full curves for each model size\n",
    "models = {\n",
    "    '160m': [(1000, 100000)],\n",
    "    '1b': [(1000, 20000)], #, (70000, 110000)],\n",
    "    '1.4b': [(4000, 50000)],\n",
    "    '2.8b': [(1000, 60000)],\n",
    "    '6.9b': [(1000, 60000)],\n",
    "}\n",
    "colors = vis.assign_cols(models)\n",
    "task = \"full\"\n",
    "\n",
    "fig = go.Figure()\n",
    "\n",
    "last_model = list(models)[-1]\n",
    "\n",
    "for model in models:\n",
    "    analysis_intervals = models[model]\n",
    "    df_llc, df_loss = dat.load_dfs(model, data_path=\"data\")\n",
    "\n",
    "    visible = True if model==last_model else \"legendonly\"\n",
    "    faded = vis.fade(color)\n",
    "    # Plot the raw data\n",
    "    color = colors[model]\n",
    "    full_curve = dat.trim_trace(df_llc, df_loss, task)\n",
    "    full_llc = full_curve[0]\n",
    "    vis.plot_data(fig, *full_curve, color=faded, mode=\"lines+markers\",\n",
    "                  showlegend=False, legendgroup=model, visible=visible)\n",
    "\n",
    "    for i, interval in enumerate(analysis_intervals):\n",
    "        analysis_curve = llc, loss, step = dat.trim_trace(df_llc, df_loss, task, *interval)\n",
    "        vis.plot_data(fig, *analysis_curve, color=color, \n",
    "                      showlegend=i==0, name=model, legendgroup=model, visible=visible)\n",
    "\n",
    "        # Try fitting some powerlaws?\n",
    "        result = fit.min_fit(llc, loss, fit.OffsetPowerLaw)\n",
    "        desc = model+\" powerlaw\" + (str(i)+\"?\" if i>0 else \"\")\n",
    "        # expand_llc = dat.trim_trace(df_llc, df_loss, task, interval[0]/3., interval[1]*2.)[0]\n",
    "        # vis.plot_result(fig, expand_llc, result, color=faded,  showlegend=False, visible=\"legendonly\", legendgroup=desc)\n",
    "        vis.plot_result(fig, llc, result, color=color, name=desc, showlegend=True, visible=\"legendonly\", legendgroup=desc)\n",
    "        \n",
    "\n",
    "llc_desc = r\"$\\text{Estimated and transformed LLC }\\,\\frac{1}{100}\\hat{\\lambda}$\"\n",
    "loss_desc = r\"$\\text{Loss }L$\"\n",
    "\n",
    "\n",
    "fig.update_layout(width=800, height=600, title='Loss vs LLC on Full-Pile subset')\n",
    "fig.update_xaxes(title_text=llc_desc)\n",
    "fig.update_yaxes(title_text=loss_desc)\n",
    "fig.show()\n",
    "\n",
    "fig.write_html(\"explore_full.html\", include_mathjax=\"cdn\")"
   ]
  },
  {
   "cell_type": "code",
   "execution_count": null,
   "id": "2dd26b51-310a-40dd-bf65-873fbb645d5a",
   "metadata": {},
   "outputs": [],
   "source": [
    "full_curve"
   ]
  },
  {
   "cell_type": "code",
   "execution_count": null,
   "id": "9cc5dac8-f8c5-4829-974a-768290144db9",
   "metadata": {},
   "outputs": [],
   "source": [
    "tasks = df_llc.columns\n",
    "\n",
    "colors = vis.assign_cols(tasks)\n",
    "\n",
    "analysis_interval = 2000, 80000\n",
    "\n",
    "llc_desc = r\"$\\text{Estimated and transformed LLC }\\,\\frac{1}{100}\\hat{\\lambda}$\"\n",
    "loss_desc = r\"$\\text{Loss }L$\"\n",
    "\n",
    "fig = go.Figure()\n",
    "\n",
    "\n",
    "for task in tasks:\n",
    "    # Plot the raw data\n",
    "    color = colors[task]\n",
    "    full_curve = dat.trim_trace(df_llc, df_loss, task)\n",
    "    vis.plot_data(fig, *full_curve, color=vis.fade(color))\n",
    "                  \n",
    "    analysis_curve = dat.trim_trace(df_llc, df_loss, task, *analysis_interval)\n",
    "    vis.plot_data(fig, *analysis_curve, color=color, showlegend=True)\n",
    "\n",
    "fig.update_layout(width=800, height=600)\n",
    "fig.update_xaxes(title_text=llc_desc)\n",
    "fig.update_yaxes(title_text=loss_desc)\n",
    "fig.show()"
   ]
  },
  {
   "cell_type": "markdown",
   "id": "e7ee0af4-4ed1-40fa-9f5c-2f2f5926d884",
   "metadata": {},
   "source": [
    "# Fit powerlaws"
   ]
  },
  {
   "cell_type": "code",
   "execution_count": null,
   "id": "fe7ea17a-d2ab-44ab-b1a7-7c22576cc142",
   "metadata": {},
   "outputs": [],
   "source": [
    "fig = go.Figure()\n",
    "report = []  # store parameters\n",
    "\n",
    "for task in tasks:\n",
    "    color = colors[task]\n",
    "    llc, loss, step = trace = dat.trim_trace(df_llc, df_loss, task, *analysis_interval)\n",
    "    \n",
    "\n",
    "    result = fit.min_fit(llc, loss, fit.OffsetPowerLaw)\n",
    "    shift = None  # set to result.params_dict if you want Dan's transformed style\n",
    "    \n",
    "    vis.plot_data(fig, *trace, color=color, shift=shift)\n",
    "    vis.plot_result(fig, llc, result, color=color, name=task,\n",
    "                    showlegend=True, shift=shift)\n",
    "\n",
    "    report_row = {\n",
    "        \"dataset\": task,\n",
    "        \"L*\": result.params_dict[\"y*\"],\n",
    "        \"r\": result.params_dict[\"r\"],\n",
    "        \"fit_r2\": fit.r2_score(loss, result.f(llc))\n",
    "    }   \n",
    "    report.append(report_row)\n",
    "\n",
    "fig.update_layout(width=800, height=600)\n",
    "fig.update_xaxes(title_text=llc_desc)\n",
    "fig.update_yaxes(title_text=loss_desc)\n",
    "fig.show()\n",
    "pd.DataFrame(report)"
   ]
  },
  {
   "cell_type": "code",
   "execution_count": null,
   "id": "2389b36d-31b8-4618-82da-745bf6f69f96",
   "metadata": {},
   "outputs": [],
   "source": []
  }
 ],
 "metadata": {
  "kernelspec": {
   "display_name": "Python 3 (ipykernel)",
   "language": "python",
   "name": "python3"
  },
  "language_info": {
   "codemirror_mode": {
    "name": "ipython",
    "version": 3
   },
   "file_extension": ".py",
   "mimetype": "text/x-python",
   "name": "python",
   "nbconvert_exporter": "python",
   "pygments_lexer": "ipython3",
   "version": "3.13.2"
  }
 },
 "nbformat": 4,
 "nbformat_minor": 5
}
