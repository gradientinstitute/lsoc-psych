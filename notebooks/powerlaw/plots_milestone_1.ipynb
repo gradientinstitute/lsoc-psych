{
 "cells": [
  {
   "cell_type": "markdown",
   "id": "ca770394-54cc-4d92-9dea-9c719e26b3b9",
   "metadata": {},
   "source": [
    "# Fit LLC vs Loss, power law vs exponential\n",
    "\n",
    "* Use our \"preferred model\" (which is currently 3 parameter power law).\n",
    "* row = model\n",
    "* columns linear, log, r by l* (parameter introspection) with text labels (why not)\n"
   ]
  },
  {
   "cell_type": "code",
   "execution_count": 1,
   "id": "4df29246-8393-4075-8feb-79b46670a7ba",
   "metadata": {},
   "outputs": [
    {
     "data": {
      "application/vnd.plotly.v1+json": {
       "config": {
        "plotlyServerURL": "https://plot.ly"
       },
       "data": [],
       "layout": {
        "height": 10,
        "template": {
         "data": {
          "bar": [
           {
            "error_x": {
             "color": "#2a3f5f"
            },
            "error_y": {
             "color": "#2a3f5f"
            },
            "marker": {
             "line": {
              "color": "#E5ECF6",
              "width": 0.5
             },
             "pattern": {
              "fillmode": "overlay",
              "size": 10,
              "solidity": 0.2
             }
            },
            "type": "bar"
           }
          ],
          "barpolar": [
           {
            "marker": {
             "line": {
              "color": "#E5ECF6",
              "width": 0.5
             },
             "pattern": {
              "fillmode": "overlay",
              "size": 10,
              "solidity": 0.2
             }
            },
            "type": "barpolar"
           }
          ],
          "carpet": [
           {
            "aaxis": {
             "endlinecolor": "#2a3f5f",
             "gridcolor": "white",
             "linecolor": "white",
             "minorgridcolor": "white",
             "startlinecolor": "#2a3f5f"
            },
            "baxis": {
             "endlinecolor": "#2a3f5f",
             "gridcolor": "white",
             "linecolor": "white",
             "minorgridcolor": "white",
             "startlinecolor": "#2a3f5f"
            },
            "type": "carpet"
           }
          ],
          "choropleth": [
           {
            "colorbar": {
             "outlinewidth": 0,
             "ticks": ""
            },
            "type": "choropleth"
           }
          ],
          "contour": [
           {
            "colorbar": {
             "outlinewidth": 0,
             "ticks": ""
            },
            "colorscale": [
             [
              0,
              "#0d0887"
             ],
             [
              0.1111111111111111,
              "#46039f"
             ],
             [
              0.2222222222222222,
              "#7201a8"
             ],
             [
              0.3333333333333333,
              "#9c179e"
             ],
             [
              0.4444444444444444,
              "#bd3786"
             ],
             [
              0.5555555555555556,
              "#d8576b"
             ],
             [
              0.6666666666666666,
              "#ed7953"
             ],
             [
              0.7777777777777778,
              "#fb9f3a"
             ],
             [
              0.8888888888888888,
              "#fdca26"
             ],
             [
              1,
              "#f0f921"
             ]
            ],
            "type": "contour"
           }
          ],
          "contourcarpet": [
           {
            "colorbar": {
             "outlinewidth": 0,
             "ticks": ""
            },
            "type": "contourcarpet"
           }
          ],
          "heatmap": [
           {
            "colorbar": {
             "outlinewidth": 0,
             "ticks": ""
            },
            "colorscale": [
             [
              0,
              "#0d0887"
             ],
             [
              0.1111111111111111,
              "#46039f"
             ],
             [
              0.2222222222222222,
              "#7201a8"
             ],
             [
              0.3333333333333333,
              "#9c179e"
             ],
             [
              0.4444444444444444,
              "#bd3786"
             ],
             [
              0.5555555555555556,
              "#d8576b"
             ],
             [
              0.6666666666666666,
              "#ed7953"
             ],
             [
              0.7777777777777778,
              "#fb9f3a"
             ],
             [
              0.8888888888888888,
              "#fdca26"
             ],
             [
              1,
              "#f0f921"
             ]
            ],
            "type": "heatmap"
           }
          ],
          "histogram": [
           {
            "marker": {
             "pattern": {
              "fillmode": "overlay",
              "size": 10,
              "solidity": 0.2
             }
            },
            "type": "histogram"
           }
          ],
          "histogram2d": [
           {
            "colorbar": {
             "outlinewidth": 0,
             "ticks": ""
            },
            "colorscale": [
             [
              0,
              "#0d0887"
             ],
             [
              0.1111111111111111,
              "#46039f"
             ],
             [
              0.2222222222222222,
              "#7201a8"
             ],
             [
              0.3333333333333333,
              "#9c179e"
             ],
             [
              0.4444444444444444,
              "#bd3786"
             ],
             [
              0.5555555555555556,
              "#d8576b"
             ],
             [
              0.6666666666666666,
              "#ed7953"
             ],
             [
              0.7777777777777778,
              "#fb9f3a"
             ],
             [
              0.8888888888888888,
              "#fdca26"
             ],
             [
              1,
              "#f0f921"
             ]
            ],
            "type": "histogram2d"
           }
          ],
          "histogram2dcontour": [
           {
            "colorbar": {
             "outlinewidth": 0,
             "ticks": ""
            },
            "colorscale": [
             [
              0,
              "#0d0887"
             ],
             [
              0.1111111111111111,
              "#46039f"
             ],
             [
              0.2222222222222222,
              "#7201a8"
             ],
             [
              0.3333333333333333,
              "#9c179e"
             ],
             [
              0.4444444444444444,
              "#bd3786"
             ],
             [
              0.5555555555555556,
              "#d8576b"
             ],
             [
              0.6666666666666666,
              "#ed7953"
             ],
             [
              0.7777777777777778,
              "#fb9f3a"
             ],
             [
              0.8888888888888888,
              "#fdca26"
             ],
             [
              1,
              "#f0f921"
             ]
            ],
            "type": "histogram2dcontour"
           }
          ],
          "mesh3d": [
           {
            "colorbar": {
             "outlinewidth": 0,
             "ticks": ""
            },
            "type": "mesh3d"
           }
          ],
          "parcoords": [
           {
            "line": {
             "colorbar": {
              "outlinewidth": 0,
              "ticks": ""
             }
            },
            "type": "parcoords"
           }
          ],
          "pie": [
           {
            "automargin": true,
            "type": "pie"
           }
          ],
          "scatter": [
           {
            "fillpattern": {
             "fillmode": "overlay",
             "size": 10,
             "solidity": 0.2
            },
            "type": "scatter"
           }
          ],
          "scatter3d": [
           {
            "line": {
             "colorbar": {
              "outlinewidth": 0,
              "ticks": ""
             }
            },
            "marker": {
             "colorbar": {
              "outlinewidth": 0,
              "ticks": ""
             }
            },
            "type": "scatter3d"
           }
          ],
          "scattercarpet": [
           {
            "marker": {
             "colorbar": {
              "outlinewidth": 0,
              "ticks": ""
             }
            },
            "type": "scattercarpet"
           }
          ],
          "scattergeo": [
           {
            "marker": {
             "colorbar": {
              "outlinewidth": 0,
              "ticks": ""
             }
            },
            "type": "scattergeo"
           }
          ],
          "scattergl": [
           {
            "marker": {
             "colorbar": {
              "outlinewidth": 0,
              "ticks": ""
             }
            },
            "type": "scattergl"
           }
          ],
          "scattermap": [
           {
            "marker": {
             "colorbar": {
              "outlinewidth": 0,
              "ticks": ""
             }
            },
            "type": "scattermap"
           }
          ],
          "scattermapbox": [
           {
            "marker": {
             "colorbar": {
              "outlinewidth": 0,
              "ticks": ""
             }
            },
            "type": "scattermapbox"
           }
          ],
          "scatterpolar": [
           {
            "marker": {
             "colorbar": {
              "outlinewidth": 0,
              "ticks": ""
             }
            },
            "type": "scatterpolar"
           }
          ],
          "scatterpolargl": [
           {
            "marker": {
             "colorbar": {
              "outlinewidth": 0,
              "ticks": ""
             }
            },
            "type": "scatterpolargl"
           }
          ],
          "scatterternary": [
           {
            "marker": {
             "colorbar": {
              "outlinewidth": 0,
              "ticks": ""
             }
            },
            "type": "scatterternary"
           }
          ],
          "surface": [
           {
            "colorbar": {
             "outlinewidth": 0,
             "ticks": ""
            },
            "colorscale": [
             [
              0,
              "#0d0887"
             ],
             [
              0.1111111111111111,
              "#46039f"
             ],
             [
              0.2222222222222222,
              "#7201a8"
             ],
             [
              0.3333333333333333,
              "#9c179e"
             ],
             [
              0.4444444444444444,
              "#bd3786"
             ],
             [
              0.5555555555555556,
              "#d8576b"
             ],
             [
              0.6666666666666666,
              "#ed7953"
             ],
             [
              0.7777777777777778,
              "#fb9f3a"
             ],
             [
              0.8888888888888888,
              "#fdca26"
             ],
             [
              1,
              "#f0f921"
             ]
            ],
            "type": "surface"
           }
          ],
          "table": [
           {
            "cells": {
             "fill": {
              "color": "#EBF0F8"
             },
             "line": {
              "color": "white"
             }
            },
            "header": {
             "fill": {
              "color": "#C8D4E3"
             },
             "line": {
              "color": "white"
             }
            },
            "type": "table"
           }
          ]
         },
         "layout": {
          "annotationdefaults": {
           "arrowcolor": "#2a3f5f",
           "arrowhead": 0,
           "arrowwidth": 1
          },
          "autotypenumbers": "strict",
          "coloraxis": {
           "colorbar": {
            "outlinewidth": 0,
            "ticks": ""
           }
          },
          "colorscale": {
           "diverging": [
            [
             0,
             "#8e0152"
            ],
            [
             0.1,
             "#c51b7d"
            ],
            [
             0.2,
             "#de77ae"
            ],
            [
             0.3,
             "#f1b6da"
            ],
            [
             0.4,
             "#fde0ef"
            ],
            [
             0.5,
             "#f7f7f7"
            ],
            [
             0.6,
             "#e6f5d0"
            ],
            [
             0.7,
             "#b8e186"
            ],
            [
             0.8,
             "#7fbc41"
            ],
            [
             0.9,
             "#4d9221"
            ],
            [
             1,
             "#276419"
            ]
           ],
           "sequential": [
            [
             0,
             "#0d0887"
            ],
            [
             0.1111111111111111,
             "#46039f"
            ],
            [
             0.2222222222222222,
             "#7201a8"
            ],
            [
             0.3333333333333333,
             "#9c179e"
            ],
            [
             0.4444444444444444,
             "#bd3786"
            ],
            [
             0.5555555555555556,
             "#d8576b"
            ],
            [
             0.6666666666666666,
             "#ed7953"
            ],
            [
             0.7777777777777778,
             "#fb9f3a"
            ],
            [
             0.8888888888888888,
             "#fdca26"
            ],
            [
             1,
             "#f0f921"
            ]
           ],
           "sequentialminus": [
            [
             0,
             "#0d0887"
            ],
            [
             0.1111111111111111,
             "#46039f"
            ],
            [
             0.2222222222222222,
             "#7201a8"
            ],
            [
             0.3333333333333333,
             "#9c179e"
            ],
            [
             0.4444444444444444,
             "#bd3786"
            ],
            [
             0.5555555555555556,
             "#d8576b"
            ],
            [
             0.6666666666666666,
             "#ed7953"
            ],
            [
             0.7777777777777778,
             "#fb9f3a"
            ],
            [
             0.8888888888888888,
             "#fdca26"
            ],
            [
             1,
             "#f0f921"
            ]
           ]
          },
          "colorway": [
           "#636efa",
           "#EF553B",
           "#00cc96",
           "#ab63fa",
           "#FFA15A",
           "#19d3f3",
           "#FF6692",
           "#B6E880",
           "#FF97FF",
           "#FECB52"
          ],
          "font": {
           "color": "#2a3f5f"
          },
          "geo": {
           "bgcolor": "white",
           "lakecolor": "white",
           "landcolor": "#E5ECF6",
           "showlakes": true,
           "showland": true,
           "subunitcolor": "white"
          },
          "hoverlabel": {
           "align": "left"
          },
          "hovermode": "closest",
          "mapbox": {
           "style": "light"
          },
          "paper_bgcolor": "white",
          "plot_bgcolor": "#E5ECF6",
          "polar": {
           "angularaxis": {
            "gridcolor": "white",
            "linecolor": "white",
            "ticks": ""
           },
           "bgcolor": "#E5ECF6",
           "radialaxis": {
            "gridcolor": "white",
            "linecolor": "white",
            "ticks": ""
           }
          },
          "scene": {
           "xaxis": {
            "backgroundcolor": "#E5ECF6",
            "gridcolor": "white",
            "gridwidth": 2,
            "linecolor": "white",
            "showbackground": true,
            "ticks": "",
            "zerolinecolor": "white"
           },
           "yaxis": {
            "backgroundcolor": "#E5ECF6",
            "gridcolor": "white",
            "gridwidth": 2,
            "linecolor": "white",
            "showbackground": true,
            "ticks": "",
            "zerolinecolor": "white"
           },
           "zaxis": {
            "backgroundcolor": "#E5ECF6",
            "gridcolor": "white",
            "gridwidth": 2,
            "linecolor": "white",
            "showbackground": true,
            "ticks": "",
            "zerolinecolor": "white"
           }
          },
          "shapedefaults": {
           "line": {
            "color": "#2a3f5f"
           }
          },
          "ternary": {
           "aaxis": {
            "gridcolor": "white",
            "linecolor": "white",
            "ticks": ""
           },
           "baxis": {
            "gridcolor": "white",
            "linecolor": "white",
            "ticks": ""
           },
           "bgcolor": "#E5ECF6",
           "caxis": {
            "gridcolor": "white",
            "linecolor": "white",
            "ticks": ""
           }
          },
          "title": {
           "x": 0.05
          },
          "xaxis": {
           "automargin": true,
           "gridcolor": "white",
           "linecolor": "white",
           "ticks": "",
           "title": {
            "standoff": 15
           },
           "zerolinecolor": "white",
           "zerolinewidth": 2
          },
          "yaxis": {
           "automargin": true,
           "gridcolor": "white",
           "linecolor": "white",
           "ticks": "",
           "title": {
            "standoff": 15
           },
           "zerolinecolor": "white",
           "zerolinewidth": 2
          }
         }
        },
        "width": 10
       }
      }
     },
     "metadata": {},
     "output_type": "display_data"
    }
   ],
   "source": [
    "%load_ext autoreload\n",
    "%autoreload 2\n",
    "import numpy as np\n",
    "import pandas as pd\n",
    "import plotly.graph_objects as go\n",
    "from plotly.subplots import make_subplots\n",
    "from lsoc.powerlaw import fit, data, vis"
   ]
  },
  {
   "cell_type": "code",
   "execution_count": 2,
   "id": "95e93f6b-5585-4712-8447-c4bb08af37a5",
   "metadata": {},
   "outputs": [],
   "source": [
    "SAVE = False  # write out figures"
   ]
  },
  {
   "cell_type": "code",
   "execution_count": 3,
   "id": "fe7ea17a-d2ab-44ab-b1a7-7c22576cc142",
   "metadata": {},
   "outputs": [
    {
     "ename": "NotADirectoryError",
     "evalue": "[Errno 20] Not a directory: '/Users/Jesse/Projects/lsoc-psych/.venv/lib/python3.11/site-packages/lsoc/powerlaw/data.py/data/llc/pythia-test-losses-new-seed-1024.pkl'",
     "output_type": "error",
     "traceback": [
      "\u001b[31m---------------------------------------------------------------------------\u001b[39m",
      "\u001b[31mNotADirectoryError\u001b[39m                        Traceback (most recent call last)",
      "\u001b[36mCell\u001b[39m\u001b[36m \u001b[39m\u001b[32mIn[3]\u001b[39m\u001b[32m, line 37\u001b[39m\n\u001b[32m     35\u001b[39m \u001b[38;5;28;01mfor\u001b[39;00m m_code, start_step, end_step \u001b[38;5;129;01min\u001b[39;00m m_codes:\n\u001b[32m     36\u001b[39m     msize = m_code.split(\u001b[33m\"\u001b[39m\u001b[33m-\u001b[39m\u001b[33m\"\u001b[39m)[\u001b[32m0\u001b[39m]\n\u001b[32m---> \u001b[39m\u001b[32m37\u001b[39m     df_llc, df_loss = \u001b[43mdata\u001b[49m\u001b[43m.\u001b[49m\u001b[43mload_dfs\u001b[49m\u001b[43m(\u001b[49m\u001b[43mm_code\u001b[49m\u001b[43m)\u001b[49m\n\u001b[32m     38\u001b[39m     tasks = df_llc.columns\n\u001b[32m     39\u001b[39m     \u001b[38;5;28;01mif\u001b[39;00m colors \u001b[38;5;129;01mis\u001b[39;00m \u001b[38;5;28;01mNone\u001b[39;00m:\n\u001b[32m     40\u001b[39m         \u001b[38;5;66;03m# Assume the first model has all tasks\u001b[39;00m\n",
      "\u001b[36mFile \u001b[39m\u001b[32m~/Projects/lsoc-psych/.venv/lib/python3.11/site-packages/lsoc/powerlaw/data.py:100\u001b[39m, in \u001b[36mload_dfs\u001b[39m\u001b[34m(code, data_path)\u001b[39m\n\u001b[32m     96\u001b[39m \u001b[38;5;28;01mglobal\u001b[39;00m df_llc_nb10\n\u001b[32m     98\u001b[39m \u001b[38;5;28;01mif\u001b[39;00m df_loss_sparse \u001b[38;5;129;01mis\u001b[39;00m \u001b[38;5;28;01mNone\u001b[39;00m:\n\u001b[32m     99\u001b[39m     \u001b[38;5;66;03m# Load all the dataframes on first use\u001b[39;00m\n\u001b[32m--> \u001b[39m\u001b[32m100\u001b[39m     \u001b[43mreload_data\u001b[49m\u001b[43m(\u001b[49m\u001b[43mdata_path\u001b[49m\u001b[43m)\u001b[49m\n\u001b[32m    102\u001b[39m \u001b[38;5;66;03m# Extract sub-dataframes specifically for each model\u001b[39;00m\n\u001b[32m    103\u001b[39m \u001b[38;5;66;03m# So we need to know where to look to find each of these\u001b[39;00m\n\u001b[32m    104\u001b[39m msizes = {\n\u001b[32m    105\u001b[39m     \u001b[33m'\u001b[39m\u001b[33m14m\u001b[39m\u001b[33m'\u001b[39m: (df_loss_dense, df_llc_sparse),\n\u001b[32m    106\u001b[39m     \u001b[33m'\u001b[39m\u001b[33m31m\u001b[39m\u001b[33m'\u001b[39m: (df_loss_dense, df_llc_sparse),\n\u001b[32m   (...)\u001b[39m\u001b[32m    116\u001b[39m     \u001b[33m'\u001b[39m\u001b[33m6.9b\u001b[39m\u001b[33m'\u001b[39m: (df_loss_sparse, df_llc_sparse),\n\u001b[32m    117\u001b[39m }\n",
      "\u001b[36mFile \u001b[39m\u001b[32m~/Projects/lsoc-psych/.venv/lib/python3.11/site-packages/lsoc/powerlaw/data.py:27\u001b[39m, in \u001b[36mreload_data\u001b[39m\u001b[34m(data_path)\u001b[39m\n\u001b[32m     23\u001b[39m \u001b[38;5;28;01mglobal\u001b[39;00m df_llc_nb10\n\u001b[32m     26\u001b[39m \u001b[38;5;66;03m# Sparse losses - contains results for 1B but doesn't contain std\u001b[39;00m\n\u001b[32m---> \u001b[39m\u001b[32m27\u001b[39m \u001b[38;5;28;01mwith\u001b[39;00m \u001b[38;5;28;43mopen\u001b[39;49m\u001b[43m(\u001b[49m\u001b[33;43mf\u001b[39;49m\u001b[33;43m'\u001b[39;49m\u001b[38;5;132;43;01m{\u001b[39;49;00m\u001b[43mdata_path\u001b[49m\u001b[38;5;132;43;01m}\u001b[39;49;00m\u001b[33;43m/pythia-test-losses-new-seed-1024.pkl\u001b[39;49m\u001b[33;43m'\u001b[39;49m\u001b[43m,\u001b[49m\n\u001b[32m     28\u001b[39m \u001b[43m            \u001b[49m\u001b[33;43m'\u001b[39;49m\u001b[33;43mrb\u001b[39;49m\u001b[33;43m'\u001b[39;49m\u001b[43m)\u001b[49m \u001b[38;5;28;01mas\u001b[39;00m file:\n\u001b[32m     29\u001b[39m     df_loss_sparse = pickle.load(file)\n\u001b[32m     30\u001b[39m     df_loss_sparse.set_index(\u001b[33m'\u001b[39m\u001b[33mStep\u001b[39m\u001b[33m'\u001b[39m, inplace=\u001b[38;5;28;01mTrue\u001b[39;00m)\n",
      "\u001b[31mNotADirectoryError\u001b[39m: [Errno 20] Not a directory: '/Users/Jesse/Projects/lsoc-psych/.venv/lib/python3.11/site-packages/lsoc/powerlaw/data.py/data/llc/pythia-test-losses-new-seed-1024.pkl'"
     ]
    }
   ],
   "source": [
    "# be conservative initially\n",
    "_start = 2000  # we believe this should be in-common\n",
    "m_codes = [\n",
    "    ('14m', _start, 20000),\n",
    "    ('31m',_start, 20000),\n",
    "    ('70m', _start, 20000),\n",
    "    ('160m', _start, 30000),\n",
    "    ('410m-dense', _start, 80000),\n",
    "    ('1b', _start, 30000),\n",
    "]\n",
    "\n",
    "function = fit.OffsetPowerLaw\n",
    "colors = None\n",
    "\n",
    "# Put into rows and columns\n",
    "\n",
    "titles = []\n",
    "for m_code, start_step, end_step in m_codes:\n",
    "    msize = m_code.split(\"-\")[0]\n",
    "    desc = f\"Pythia-{msize} on [{start_step//1000}k, {end_step//1000}k]\"\n",
    "    titles.append(desc)\n",
    "    \n",
    "fig = make_subplots(\n",
    "    rows=3, cols=2,\n",
    "    subplot_titles=titles,\n",
    "    horizontal_spacing=0.1,\n",
    "    vertical_spacing=0.1,\n",
    ")\n",
    "fig.update_layout(width=1000, height=400*3)\n",
    "\n",
    "row = 1\n",
    "col = 0\n",
    "\n",
    "\n",
    "for m_code, start_step, end_step in m_codes:\n",
    "    msize = m_code.split(\"-\")[0]\n",
    "    df_llc, df_loss = data.load_dfs(m_code)\n",
    "    tasks = df_llc.columns\n",
    "    if colors is None:\n",
    "        # Assume the first model has all tasks\n",
    "        colors = vis.assign_cols(df_llc.columns)\n",
    "\n",
    "    col += 1\n",
    "    if col == 3:\n",
    "        col = 1\n",
    "        row += 1\n",
    "    subplot = dict(row=row, col=col)\n",
    "\n",
    "    # fig = go.Figure()\n",
    "    shift = None\n",
    "    \n",
    "    for task in tasks:\n",
    "        color = colors[task]\n",
    "        color2 = vis.add_color(color)  # for heldout data\n",
    "        #full = data.trim_trace(df_llc, df_loss, task, start_step // 5, end_step * 5)\n",
    "        full = data.trim_trace(df_llc, df_loss, task, 0, 1000000)\n",
    "        #result = fit.min_fit(trace.x, trace.y, function)\n",
    "        #shift = result.params_dict\n",
    "        vis.plot_data(fig, *full, color=color2, shift=shift, mode='lines+markers', subplot=subplot)\n",
    "\n",
    "    for task in tasks:\n",
    "        color = colors[task]\n",
    "        trace = data.trim_trace(df_llc, df_loss, task, start_step, end_step)\n",
    "        \n",
    "        vis.plot_data(fig, *trace, color=color, showlegend=(row+col==2),\n",
    "                      name=task, shift=shift, mode='lines+markers', subplot=subplot)\n",
    "        #vis.plot_result(fig, trace.x, result, shift=shift, color=color)\n",
    "    # fig.update_xaxes(title_text=r\"$\\text{Estimated and transformed LLC }\\,\\frac{1}{100}\\hat{\\lambda}$\", **subplot)\n",
    "    # fig.update_yaxes(title_text=r\"$\\text{Loss }L$\", **subplot)\n",
    "    \n",
    "    #fig.update_layout(title=desc, width=800, height=600)\n",
    "#fig.show()\n",
    "    \n",
    "# fig.update_layout(\n",
    "#     title=\"\",\n",
    "#     width=1200,\n",
    "#     height=410* len(functions),\n",
    "#     showlegend=True,\n",
    "#     legend_tracegroupgap=180,  # annoying - have to eyeball this\n",
    "# )\n",
    "fname = f\"plots/select_intervals.pdf\"\n",
    "if SAVE:\n",
    "    fig.write_image(fname)\n",
    "    print(f\"Done. See {fname}\")\n",
    "fig.show()"
   ]
  },
  {
   "cell_type": "markdown",
   "id": "5a22a311-8370-43fb-bc2f-1be0ca378bb0",
   "metadata": {},
   "source": [
    "# Make the input data plot for pythia 410m for the introduction\n"
   ]
  },
  {
   "cell_type": "code",
   "execution_count": null,
   "id": "f887c1e4-689b-4dff-94e0-aa811e390356",
   "metadata": {},
   "outputs": [],
   "source": [
    "df_llc, df_loss = data.load_dfs(\"410m-dense\")\n",
    "start_step = 2000\n",
    "end_step = 80000\n",
    "\n",
    "tasks = df_llc.columns\n",
    "\n",
    "fig = go.Figure()\n",
    "\n",
    "for task in tasks:\n",
    "    color = colors[task]\n",
    "    trace = data.trim_trace(df_llc, df_loss, task, start_step, end_step)    \n",
    "    result = fit.min_fit(trace.x, trace.y, fit.OffsetPowerLaw)\n",
    "    shift = None  # result.params_dict\n",
    "    vis.plot_data(fig, *trace, color=color, name=task, showlegend=False, shift=shift)\n",
    "    vis.plot_result(fig, trace.x, result, color=color, name=task, showlegend=True, shift=shift)\n",
    "\n",
    "fig.update_layout(width=800, height=600)\n",
    "#title=f\"Pythia-{msize} Loss vs LLC on steps [{start_step}, {end_step}]\", \n",
    "fig.update_xaxes(title_text=r\"$\\text{Estimated and transformed LLC }\\,\\frac{1}{100}\\hat{\\lambda}$\")\n",
    "fig.update_yaxes(title_text=r\"$L$\")\n",
    "#fig.show()\n",
    "\n",
    "fname = f\"plots/title_{msize}.pdf\"\n",
    "if SAVE:\n",
    "    fig.write_image(fname)\n",
    "    print(f\"Done. See {fname}\")\n",
    "fig.show()"
   ]
  },
  {
   "cell_type": "markdown",
   "id": "94b1c1bb-4e99-4d3f-9098-6c825aabc80f",
   "metadata": {},
   "source": [
    "# What does the parameter distribution look like?"
   ]
  },
  {
   "cell_type": "code",
   "execution_count": null,
   "id": "4ed3b338-3ad5-41c6-83ab-c7d129a8a1ec",
   "metadata": {},
   "outputs": [],
   "source": [
    "titles = []\n",
    "for m_code, start_step, end_step in m_codes:\n",
    "    msize = m_code.split(\"-\")[0]\n",
    "    titles.append(f\"Parameters for Pythia-{msize} on [{start_step}, {end_step}]\")\n",
    "fig = make_subplots(\n",
    "    rows=3, cols=2,\n",
    "    subplot_titles=titles,\n",
    "    horizontal_spacing=0.1,\n",
    "    vertical_spacing=0.1,\n",
    ")\n",
    "fig.update_layout(width=1200, height=410*3)\n",
    "\n",
    "row = 1\n",
    "col = 0\n",
    "\n",
    "for m_code, start_step, end_step in m_codes:\n",
    "    msize = m_code.split(\"-\")[0]\n",
    "    df_llc, df_loss = data.load_dfs(m_code)\n",
    "    tasks = df_llc.columns\n",
    "\n",
    "    col += 1\n",
    "    if col == 3:\n",
    "        col = 1\n",
    "        row += 1\n",
    "    subplot = dict(row=row, col=col)\n",
    "        \n",
    "    for task in tasks:\n",
    "        trace = data.trim_trace(df_llc, df_loss, task, start_step, end_step)\n",
    "        result = fit.min_fit(trace.x, trace.y, fit.OffsetPowerLaw)\n",
    "        pars = result.params_dict\n",
    "        desc = f\"{msize}-{task}\"\n",
    "        fig.add_trace(go.Scatter(\n",
    "            x=[pars[\"r\"]],\n",
    "            y=[pars[\"y*\"]],\n",
    "            name=task,\n",
    "            marker=dict(\n",
    "                color=colors[task],\n",
    "                size=10,\n",
    "            ),\n",
    "            showlegend=(row+col==2),\n",
    "            mode='markers+text',\n",
    "            text=task,\n",
    "            textposition='top center',\n",
    "            textfont=dict(size=5),\n",
    "        ), **subplot)\n",
    "    fig.update_xaxes(title_text=r\"Exponent r\", **subplot)\n",
    "    fig.update_yaxes(title_text=r\"Loss Offset L*\", **subplot)\n",
    "\n",
    "\n",
    "fname = f\"plots/parameters_grid.pdf\"\n",
    "if SAVE:\n",
    "    fig.write_image(fname)\n",
    "    print(f\"Done. See {fname}\")\n",
    "fig.show()"
   ]
  },
  {
   "cell_type": "markdown",
   "id": "0dae140a-f1b9-4a6e-9dd6-1439076077ee",
   "metadata": {},
   "source": [
    "## Are there any trends over model size?"
   ]
  },
  {
   "cell_type": "code",
   "execution_count": null,
   "id": "c99168c4-61e6-4d65-b2d4-21ecb3cb4014",
   "metadata": {},
   "outputs": [],
   "source": [
    "# Is there any pattern over model size?\n",
    "\n",
    "df_llc, df_loss = data.load_dfs(\"160m\")  # I believe 160m has a full task list\n",
    "tasks = df_llc.columns\n",
    "task_xs = {t:[] for t in tasks}\n",
    "task_ys = {t:[] for t in tasks}\n",
    "task_siz = {t:[] for t in tasks}\n",
    "\n",
    "\n",
    "for m_code, start_step, end_step in m_codes:  # [1:]:\n",
    "    msize = m_code.split(\"-\")[0]\n",
    "    df_llc, df_loss = data.load_dfs(m_code)\n",
    "    \n",
    "    # Not every model has a full task list\n",
    "    for task in df_llc.columns:\n",
    "        trace = data.trim_trace(df_llc, df_loss, task, start_step, end_step)\n",
    "        result = fit.min_fit(trace.x, trace.y, fit.OffsetPowerLaw)\n",
    "        pars = result.params_dict\n",
    "        desc = f\"{msize}-{task}\"\n",
    "        x = pars[\"r\"]\n",
    "        y = pars[\"y*\"]\n",
    "        task_xs[task].append(x)\n",
    "        task_ys[task].append(y)\n",
    "        task_siz[task].append(msize.upper())\n",
    "\n",
    "\n",
    "fig = go.Figure()\n",
    "\n",
    "for task in tasks:\n",
    "\n",
    "    fig.add_trace(go.Scatter(\n",
    "        x=task_xs[task],\n",
    "        y=task_ys[task],\n",
    "        customdata=task_siz[task],\n",
    "        marker=dict(\n",
    "            color=colors[task],\n",
    "            size=6,\n",
    "        ),\n",
    "        mode='markers+lines+text',\n",
    "        name=task,\n",
    "        text=task_siz[task],\n",
    "        textfont=dict(size=8),\n",
    "        textposition='top right',\n",
    "        hovertemplate=\"Model: %{customdata}<br><extra></extra>\",\n",
    "    ))\n",
    "fig.update_xaxes(title_text=\"$r$\")\n",
    "fig.update_yaxes(title_text=\"$L^*$\")\n",
    "fig.update_layout(title=\"\", width=800, height=600)\n",
    "\n",
    "\n",
    "if SAVE:\n",
    "    fname = f\"plots/parameters_all.pdf\"\n",
    "    fig.write_image(fname)\n",
    "    \n",
    "    thumb = f\"plots/parameters_thumbnail_all.png\"\n",
    "    fig.write_image(thumb, scale=2)\n",
    "    print(f\"Done. See {fname}\")\n",
    "fig.show()\n"
   ]
  },
  {
   "cell_type": "markdown",
   "id": "bbac2049-f3bc-4403-9ab8-46a420443fa2",
   "metadata": {},
   "source": [
    "# Final array - ALL THE FITS"
   ]
  },
  {
   "cell_type": "code",
   "execution_count": null,
   "id": "f9044bbc-89d1-484c-96ff-fd436ba4990a",
   "metadata": {},
   "outputs": [],
   "source": [
    "# Now make the final figure for each of the datasets:\n",
    "# Row: model size (6 rows)\n",
    "# Column: fit: linear, fit_logspace, parameters\n",
    "function = fit.OffsetPowerLaw  # our chosen model\n",
    "\n",
    "batches = [\n",
    "    (\"plots/models1.pdf\", m_codes[:3]),\n",
    "    (\"plots/models2.pdf\", m_codes[3:]),\n",
    "]\n",
    "    \n",
    "for fname, codes in batches:\n",
    "\n",
    "    # Make a figure\n",
    "    titles = []\n",
    "    for m_code, start_step, end_step in codes:\n",
    "        for view in [\"Linear\", \"Log\"]:\n",
    "            msize = m_code.split(\"-\")[0]\n",
    "            titles.append(f\"Pythia-{msize} on [{start_step//1000}k, {end_step//1000}k]\")\n",
    "    fig = make_subplots(\n",
    "        rows=3, cols=2,\n",
    "        subplot_titles=titles,\n",
    "        horizontal_spacing=0.1,\n",
    "        vertical_spacing=0.1,\n",
    "    )\n",
    "    fig.update_layout(\n",
    "        width=1200,\n",
    "        height=410*3,\n",
    "        legend_tracegroupgap=120,  # annoying - have to eyeball this\n",
    "    )\n",
    "    row = 0\n",
    "    for m_code, start_step, end_step in codes:\n",
    "        row += 1\n",
    "        msize = m_code.split(\"-\")[0]\n",
    "        df_llc, df_loss = data.load_dfs(m_code)\n",
    "        tasks = df_llc.columns\n",
    "        \n",
    "        for task in tasks:\n",
    "            color = colors[task]\n",
    "            trace = data.trim_trace(df_llc, df_loss, task, start_step, end_step)\n",
    "            result = fit.min_fit(trace.x, trace.y, function)\n",
    "            func_desc = vis.dict2txt(result.params_dict, \",\").replace(\"y*\", \"L*\").replace(\": \", \":\")\n",
    "\n",
    "            y_fit = result.f(trace.x)\n",
    "            r2_score = fit.r2_score(trace.y, y_fit)\n",
    "            \n",
    "            # Plot the linear and logspace fits\n",
    "            for col, shift in ((1, None), (2, result.params_dict)):\n",
    "                subplot = dict(row=row, col=col)\n",
    "                vis.plot_data(fig, *trace, color=color, shift=shift, subplot=subplot, showlegend=False)\n",
    "                vis.plot_result(fig, trace.x, result, color=color, shift=shift, subplot=subplot, showlegend=col==1,\n",
    "                               legendgroup=msize, name=f\"{task} {func_desc}: R2={r2_score:.4f}\")\n",
    "                fig.update_xaxes(title_text=r\"$\\text{Estimated and transformed LLC }\\,\\frac{1}{100}\\hat{\\lambda}$\", **subplot)\n",
    "                if col == 1:\n",
    "                    fig.update_yaxes(title_text=r\"$\\text{Loss }L$\", **subplot)\n",
    "                elif col == 2:\n",
    "                    fig.update_yaxes(title_text=r\"$\\text{Loss }L - L^*$\", **subplot)\n",
    "\n",
    "    if SAVE:\n",
    "        fig.write_image(fname)\n",
    "        print(f\"Saved. See {fname}\")\n",
    "    fig.show()"
   ]
  },
  {
   "cell_type": "markdown",
   "id": "64d0be36-ad6b-44ff-9ade-8bb126d57512",
   "metadata": {},
   "source": [
    "# Alt view with table"
   ]
  },
  {
   "cell_type": "code",
   "execution_count": null,
   "id": "25194313-e5a2-4968-862c-3a6c7b4edc1f",
   "metadata": {},
   "outputs": [],
   "source": [
    "# Now make the final figure for each of the datasets:\n",
    "# Row: model size (6 rows)\n",
    "# Column: fit: linear, fit_logspace, parameters\n",
    "function = fit.OffsetPowerLaw  # our chosen model\n",
    "\n",
    "batches = [\n",
    "    (\"plots/models1.pdf\", m_codes[:3]),\n",
    "    (\"plots/models2.pdf\", m_codes[3:]),\n",
    "]\n",
    "\n",
    "report = []  # store rows of the table\n",
    "\n",
    "\n",
    "for fname, codes in batches:\n",
    "\n",
    "    # Make a figure\n",
    "    titles = []\n",
    "    for m_code, start_step, end_step in codes:\n",
    "        for view in [\"Linear\", \"Log\"]:\n",
    "            msize = m_code.split(\"-\")[0]\n",
    "            titles.append(f\"Pythia-{msize} on [{start_step//1000}k, {end_step//1000}k]\")\n",
    "    \n",
    "    fig = make_subplots(\n",
    "        rows=3, cols=2,\n",
    "        subplot_titles=titles,\n",
    "        horizontal_spacing=0.1,\n",
    "        vertical_spacing=0.1,\n",
    "    )\n",
    "    fig.update_layout(\n",
    "        width=1200,\n",
    "        height=550*len(codes),\n",
    "        # legend=dict(\n",
    "        #     yanchor='top',   # anchor point\n",
    "        #     y=-0.07,          # position below plots (negative value moves it below)\n",
    "        #     xanchor='right', # center horizontally\n",
    "        #     x=0.8,            # center position (0.5 = middle)\n",
    "        # )\n",
    "    )\n",
    "    row = 0\n",
    "    for m_code, start_step, end_step in codes:\n",
    "        row += 1\n",
    "        msize = m_code.split(\"-\")[0]\n",
    "        df_llc, df_loss = data.load_dfs(m_code)\n",
    "        tasks = df_llc.columns\n",
    "        \n",
    "        for task in tasks:\n",
    "\n",
    "            color = colors[task]\n",
    "            trace = data.trim_trace(df_llc, df_loss, task, start_step, end_step)\n",
    "            result = fit.min_fit(trace.x, trace.y, function)\n",
    "            func_desc = vis.dict2txt(result.params_dict, \",\").replace(\"y*\", \"L*\").replace(\": \", \":\")\n",
    "\n",
    "            y_fit = result.f(trace.x)\n",
    "            r2_score = fit.r2_score(trace.y, y_fit)\n",
    "            params = result.params_dict\n",
    "            # on the inner loop, add rows to the report            \n",
    "            report_row = {\n",
    "                \"Model\": \"Pythia-\"+msize.upper(),\n",
    "                \"dataset\": task,\n",
    "                \"L*\": params[\"y*\"],\n",
    "                \"c\": params[\"c\"],\n",
    "                \"r\": params[\"r\"],\n",
    "                \"R2\": r2_score,\n",
    "            }\n",
    "            report.append(report_row)\n",
    "            \n",
    "            # Plot the linear and logspace fits\n",
    "            for col, shift in ((1, None), (2, result.params_dict)):\n",
    "                subplot = dict(row=row, col=col)\n",
    "                vis.plot_data(fig, *trace, color=color, shift=shift, subplot=subplot, showlegend=False)\n",
    "                vis.plot_result(fig, trace.x, result, color=color, shift=shift, subplot=subplot, showlegend=(row+col==2),\n",
    "                               legendgroup=msize, name=task)\n",
    "                fig.update_xaxes(title_text=r\"$\\text{Estimated and transformed LLC }\\,\\frac{1}{100}\\hat{\\lambda}$\", **subplot)\n",
    "                if col == 1:\n",
    "                    fig.update_yaxes(title_text=r\"$\\text{Loss }L$\", **subplot)\n",
    "                elif col == 2:\n",
    "                    fig.update_yaxes(title_text=r\"$\\text{Loss }L - L^*$\", **subplot)\n",
    "\n",
    "\n",
    "    if SAVE:\n",
    "        fig.write_image(fname)\n",
    "        print(f\"Done. See {fname}\")\n",
    "    fig.show()\n",
    "        \n",
    "pd.DataFrame(report)"
   ]
  },
  {
   "cell_type": "code",
   "execution_count": null,
   "id": "89013422-c8f2-4812-8ccc-3c690512e81d",
   "metadata": {},
   "outputs": [],
   "source": [
    "# save the report\n",
    "\n",
    "# make it \\scriptsize\n",
    "df = pd.DataFrame(report)\n",
    "latex_output = []\n",
    "latex_output.append(r\"\"\"\n",
    "\\begin{figure}[htbp]\n",
    "\\centering\n",
    "\\scriptsize\n",
    "\"\"\".strip())\n",
    "\n",
    "grouped = df.groupby('Model', sort=False)\n",
    "columns = 2\n",
    "\n",
    "for i, (model_name, group_df) in enumerate(grouped):\n",
    "    \n",
    "    group_df = group_df.drop('Model', axis=1)  # Don't want it in the table\n",
    "    \n",
    "    # handle columns in subfigs:\n",
    "    if i % 2 == 0 and i != 0:  # Start new row\n",
    "        latex_output.append(\"\\n\\\\vspace{1cm}\")\n",
    "    \n",
    "    if i % 2 == 0:  # First table in row\n",
    "        latex_output.append(\"\\n\\\\begin{subfigure}[t]{0.45\\\\textwidth}\")\n",
    "    else:  # Second table in row\n",
    "        latex_output.append(\"\\\\hfill\\n\\\\begin{subfigure}[t]{0.45\\\\textwidth}\")\n",
    "\n",
    "    latex_output.append(    \n",
    "        group_df.to_latex(\n",
    "            index=False,  # optional, removes index column if you don't need it\n",
    "            column_format='lrrrr',  # specify column alignments\n",
    "            escape=True,  # if you need LaTeX commands in cells\n",
    "            # label='tab:model_fit',\n",
    "            # caption=\"Fit parameters and $R^2$ scores for each model and dataset.\",\n",
    "            float_format=lambda x: '%.2f' % x,  # format numbers\n",
    "            formatters={\n",
    "                'R2': lambda x: '%.4f' % x  # override for one column\n",
    "            },\n",
    "            longtable=False,  # for long tables\n",
    "            # position='htbp'  # table positioning\n",
    "        )\n",
    "    )\n",
    "    latex_output.append(f\"\\\\caption{{{model_name}}}\")\n",
    "    latex_output.append(\"\\\\end{subfigure}\")\n",
    "\n",
    "# End the figure\n",
    "latex_output.append(r\"\"\"\n",
    "\\caption{Fit parameters and $R^2$ scores for each model and dataset.}\n",
    "\\label{tab:model_fit}\n",
    "\\end{figure}\n",
    "\"\"\")\n",
    "\n",
    "# Join all parts\n",
    "final_latex = '\\n'.join(latex_output)\n",
    "\n",
    "# Fix R^2\n",
    "final_latex = final_latex.replace(\"R2\", \"$R^2$\")\n",
    "print(final_latex)\n"
   ]
  },
  {
   "cell_type": "code",
   "execution_count": null,
   "id": "2389b36d-31b8-4618-82da-745bf6f69f96",
   "metadata": {},
   "outputs": [],
   "source": []
  }
 ],
 "metadata": {
  "kernelspec": {
   "display_name": "Python 3 (ipykernel)",
   "language": "python",
   "name": "python3"
  },
  "language_info": {
   "codemirror_mode": {
    "name": "ipython",
    "version": 3
   },
   "file_extension": ".py",
   "mimetype": "text/x-python",
   "name": "python",
   "nbconvert_exporter": "python",
   "pygments_lexer": "ipython3",
   "version": "3.11.11"
  }
 },
 "nbformat": 4,
 "nbformat_minor": 5
}
