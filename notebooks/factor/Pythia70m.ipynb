{
 "cells": [
  {
   "cell_type": "markdown",
   "id": "d850db20-4c05-4faf-8f88-c34e55344759",
   "metadata": {},
   "source": [
    "\n",
    "# Linear Factorisation on Pythia 70m\n",
    "## (as demonstrated in milestones 0 and 1)\n"
   ]
  },
  {
   "cell_type": "code",
   "execution_count": null,
   "id": "9314f016-8a9b-45f8-b472-3ecfa9984589",
   "metadata": {},
   "outputs": [],
   "source": [
    "%load_ext autoreload\n",
    "%autoreload 2\n",
    "import pandas as pd\n",
    "import numpy as np\n",
    "import plotly.graph_objects as go\n",
    "from sklearn.preprocessing import StandardScaler, MinMaxScaler\n",
    "from lsoc.factor import factor, selection, vis, data"
   ]
  },
  {
   "cell_type": "code",
   "execution_count": null,
   "id": "bf345a5d-7cd6-4b25-be60-ab47cd88ceae",
   "metadata": {},
   "outputs": [],
   "source": [
    "# RUN CONFIG\n",
    "\n",
    "SAVE = False  # Export figures if True\n",
    "model, scaler = factor.PCA(), StandardScaler()\n",
    "#model, scaling = factor.NMF(), MinMaxScaler()\n",
    "SCALE_SCORES = False  # Rescale to bring out relative magnitudes\n",
    "SCALE_LOADINGS = False  # Rescale to bring out relative magnitudes\n"
   ]
  },
  {
   "cell_type": "code",
   "execution_count": null,
   "id": "bbdf0ebc-3108-4d8e-a176-09b132088eb1",
   "metadata": {},
   "outputs": [],
   "source": [
    "# Load initial pythia data\n",
    "model_size = \"70m\"\n",
    "X = data.pythia_70m_steps()\n",
    "scaled = scaler.fit_transform(X)\n",
    "\n",
    "fig = vis.traces(X)  #, stds=stds)\n",
    "fig.update_layout(title=f\"Psycometrics Input: Pythia {model_size}\")\n",
    "fig.show()\n"
   ]
  },
  {
   "cell_type": "code",
   "execution_count": null,
   "id": "4f61c35a-9e82-46c5-9efb-34c1339b59cd",
   "metadata": {},
   "outputs": [],
   "source": [
    "# Holdout model selection\n",
    "errs = selection.cross_validate(scaled, model, max_factors=6, n_folds=20, repeats=1)\n",
    "fig = vis.crossval(*errs, method_name=model.name)\n",
    "if SAVE:\n",
    "    fig.write_image(f\"plots/{model.name}-holdout.png\", scale=2)\n",
    "fig.show()"
   ]
  },
  {
   "cell_type": "code",
   "execution_count": null,
   "id": "d152c805-ad96-4487-8462-6de9cf590f29",
   "metadata": {},
   "outputs": [],
   "source": [
    "# TODO: get offset working\n",
    "n_components = 3\n",
    "model.max_iters = 500\n",
    "steps = X.index.values\n",
    "result = model.fit(scaled, n_components)\n",
    "print(\"plotting\", flush=True)\n",
    "component_names = [f\"PC{i+1}\" for i in range(n_components)]\n",
    "W = model.U  # Scores\n",
    "H = model.V  # Loadings\n",
    "W_scaled = W / W.max(axis=0)[None, :]  # Relative\n",
    "\n",
    "\n",
    "\n",
    "tasks = [\"llc\", \"loss\", \"trace\"]\n",
    "recon = pd.DataFrame(\n",
    "    model.R,\n",
    "    columns=X.columns,\n",
    "    index=X.index,\n",
    ")\n",
    "fig = vis.traces(recon, tasks, cols=2)\n",
    "\n",
    "target = pd.DataFrame(\n",
    "    scaled,\n",
    "    columns=X.columns,\n",
    "    index=X.index,\n",
    ")\n",
    "vis.traces(target, tasks, col=2, fig=fig)\n",
    "\n",
    "fig.update_layout(\n",
    "    title=f\"{model.name} ({n_components} components): reconstruction (left), input (right)\",\n",
    "    width=1200,\n",
    "    height=600,\n",
    ")\n",
    "fig.show()"
   ]
  },
  {
   "cell_type": "code",
   "execution_count": null,
   "id": "1cd3c57c-8406-41c9-8c32-67026ed8a7ff",
   "metadata": {},
   "outputs": [],
   "source": [
    "fig = go.Figure()\n",
    "\n",
    "for c, comp in enumerate(component_names):\n",
    "    fig.add_trace(\n",
    "        go.Scatter(\n",
    "            x=steps, y=W_scaled[:, c], name=comp, mode='lines',\n",
    "        )\n",
    "    )\n",
    "fig.update_layout(\n",
    "    width=800,\n",
    "    height=600,\n",
    "    xaxis=dict(type='log'),\n",
    "    xaxis_title='Steps',\n",
    "    yaxis_title='Score',\n",
    "    title=\"Normalised Model Scores\"\n",
    ")\n",
    "if SAVE:\n",
    "    fig.write_image(f\"plots/{model.name}-scores.png\", scale=2)\n",
    "fig.show()"
   ]
  },
  {
   "cell_type": "code",
   "execution_count": null,
   "id": "17b1f4e9-a143-4daa-a002-d4ebacfd3ba6",
   "metadata": {},
   "outputs": [],
   "source": [
    "config = dict(\n",
    "    width=6,\n",
    "    height=12,\n",
    "    reversescale=True,\n",
    ")\n",
    "\n",
    "if SCALE_LOADINGS:\n",
    "    H_scaled = H / np.max(np.abs(H), axis=1)[:, None]\n",
    "    df = pd.DataFrame(\n",
    "        data=H_scaled.T,\n",
    "        index=X.columns,\n",
    "        columns=component_names,\n",
    "    )\n",
    "    # zmin=0, zmax=1,\n",
    "    fig = vis.heatmap(df, **config, title=\"Normalised Task Loadings\")\n",
    "else:\n",
    "    df = pd.DataFrame(\n",
    "        data=H.T,\n",
    "        index=X.columns,\n",
    "        columns=component_names,\n",
    "    )\n",
    "    fig = vis.heatmap(df, **config, title=\"Task Loadings\")\n",
    "    \n",
    "if SAVE:\n",
    "    fig.write_image(\"plots/NMF_scores.png\", scale=2)\n",
    "fig.show()"
   ]
  },
  {
   "cell_type": "markdown",
   "id": "96cfd21e-390f-4ca6-a270-d2fb2ea9cdce",
   "metadata": {},
   "source": [
    "Copyright (c) Gradient Institute and Timaeus. All rights reserved.\n",
    "\n",
    "Licensed under the Apache 2.0 License.\n"
   ]
  }
 ],
 "metadata": {
  "kernelspec": {
   "display_name": "Python 3 (ipykernel)",
   "language": "python",
   "name": "python3"
  },
  "language_info": {
   "codemirror_mode": {
    "name": "ipython",
    "version": 3
   },
   "file_extension": ".py",
   "mimetype": "text/x-python",
   "name": "python",
   "nbconvert_exporter": "python",
   "pygments_lexer": "ipython3",
   "version": "3.13.2"
  }
 },
 "nbformat": 4,
 "nbformat_minor": 5
}
