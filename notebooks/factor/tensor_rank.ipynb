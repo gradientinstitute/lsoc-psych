{
 "cells": [
  {
   "cell_type": "markdown",
   "id": "4d148266-1572-4bf5-9d05-3e967d84c331",
   "metadata": {},
   "source": [
    "# Tensor Rank Decomposition\n",
    "\n",
    "Needs its own vis and notebook because its fundamentally different to a 2D factorisation."
   ]
  },
  {
   "cell_type": "code",
   "execution_count": null,
   "id": "ed80593b-6d37-40b2-9b4a-dafb02b07295",
   "metadata": {},
   "outputs": [],
   "source": [
    "%load_ext autoreload\n",
    "%autoreload 2"
   ]
  },
  {
   "cell_type": "code",
   "execution_count": null,
   "id": "9314f016-8a9b-45f8-b472-3ecfa9984589",
   "metadata": {},
   "outputs": [],
   "source": [
    "import pandas as pd\n",
    "import numpy as np\n",
    "from scipy.optimize import minimize\n",
    "from sklearn.preprocessing import StandardScaler\n",
    "import plotly.graph_objects as go\n",
    "from lsoc.factor import factor, selection, vis, data"
   ]
  },
  {
   "cell_type": "code",
   "execution_count": null,
   "id": "b86aafdd-ec76-41e1-8497-189dc23c649e",
   "metadata": {},
   "outputs": [],
   "source": [
    "SAVE = False\n",
    "NonNeg = False"
   ]
  },
  {
   "cell_type": "code",
   "execution_count": null,
   "id": "25f47927-f415-4785-a1bd-a104f18e8625",
   "metadata": {},
   "outputs": [],
   "source": []
  },
  {
   "cell_type": "code",
   "execution_count": null,
   "id": "bbdf0ebc-3108-4d8e-a176-09b132088eb1",
   "metadata": {},
   "outputs": [],
   "source": [
    "X = data.pythia_70m_steps()\n",
    "# Not sure of best policy to scale tensors, so lets scale it in matrix form?\n",
    "scaler = StandardScaler()\n",
    "scaled = pd.DataFrame(\n",
    "    scaler.fit_transform(X),\n",
    "    columns=X.columns,\n",
    "    index=X.index\n",
    ")\n",
    "T, indices = data.df_to_tensor(scaled)\n",
    "T.shape"
   ]
  },
  {
   "cell_type": "code",
   "execution_count": null,
   "id": "c09a1664-8d93-4d45-99d0-0d029a7014e4",
   "metadata": {},
   "outputs": [],
   "source": [
    "fig = vis.traces(scaled)\n",
    "fig.update_layout(\n",
    "    title=\"Input tensor\",\n",
    ")\n",
    "# if SAVE:\n",
    "#     fig.write_image(\"plots/trd-input.pdf\", scale=2)\n",
    "fig.show()"
   ]
  },
  {
   "cell_type": "markdown",
   "id": "4d12fcc8-70c4-4149-870e-b20acbe20202",
   "metadata": {},
   "source": [
    "# Tensor rank decomposition\n",
    "\n",
    "Note: typically done with alternating least squares - fix all dimensions and solve for one\n",
    "(its computationally simpler but can get stuck in local minima)\n",
    "\n",
    "Here I'm trying the \"all at once\" optimization with no constraints\n"
   ]
  },
  {
   "cell_type": "code",
   "execution_count": null,
   "id": "d2222275-b571-4261-9e3d-170fceca3b71",
   "metadata": {},
   "outputs": [],
   "source": [
    "trd = factor.TRD(positive=[])\n",
    "errs = selection.cross_validate(T, trd, max_factors=5, n_folds=5, repeats=1)\n",
    "fig = vis.crossval(*errs, \"Tensor Rank Decomposition (logscale)\")\n",
    "fig.update_yaxes(type=\"log\", exponentformat=\"power\")\n",
    "if SAVE:\n",
    "    fig.write_image(\"plots/trd-cv.pdf\")\n",
    "fig.show()"
   ]
  },
  {
   "cell_type": "code",
   "execution_count": null,
   "id": "9a3d051e-d7cf-430f-a4e3-c0c938c87c26",
   "metadata": {},
   "outputs": [],
   "source": [
    "dims = 4  # doesn't pick up \"dm_mathematics until component 4....\"\n",
    "trd = factor.TRD(dims=dims, positive=[])\n",
    "M = trd.fit(T)\n",
    "\n",
    "fig = vis.tensor_traces(M, indices)\n",
    "fig.update_layout(\n",
    "    title=f\"TRD reconstruction ({dims} components)\"\n",
    ")\n",
    "if SAVE:\n",
    "    fig.write_image(\"plots/trd-reconstruct.pdf\", scale=2)\n",
    "fig.show()\n"
   ]
  },
  {
   "cell_type": "code",
   "execution_count": null,
   "id": "6f79d1c9-3a94-4311-a665-8debd4ef24a9",
   "metadata": {},
   "outputs": [],
   "source": [
    "# swap scores and task loadings (I notice some are flipped)\n",
    "flip = 1\n",
    "trd.factors[0][flip] *= -1\n",
    "trd.factors[1][flip] *= -1\n"
   ]
  },
  {
   "cell_type": "code",
   "execution_count": null,
   "id": "233149e7-ae93-4b58-bdde-d2e0461349cb",
   "metadata": {},
   "outputs": [],
   "source": [
    "components = [f\"Z{i}\" for i in range(dims)]\n",
    "labels = \"Model scores\", \"Task loadings\", \"Metric loadings\"\n",
    "steps, tasks, measures = indices\n",
    "\n",
    "\n",
    "fig = go.Figure()\n",
    "\n",
    "for c, name in enumerate(components):\n",
    "    comp = trd.factors[0][c]\n",
    "    comp = comp / np.abs(comp).max()\n",
    "    fig.add_trace(go.Scatter(x=steps, y=comp, mode='lines', name=name))\n",
    "\n",
    "fig.update_layout(\n",
    "    xaxis_type=\"log\",\n",
    "    xaxis_title=\"Step\",\n",
    "    yaxis_title=\"Model Score\",\n",
    "    legend_title=\"Components\",\n",
    "    width=800,\n",
    "    height=600,\n",
    "    title=\"Model Score (normalised)\",\n",
    ")\n",
    "\n",
    "if SAVE:\n",
    "    fig.write_image(\"plots/trd-scores.pdf\", scale=2)\n",
    "fig.show()"
   ]
  },
  {
   "cell_type": "code",
   "execution_count": null,
   "id": "df8be831-cb8c-4801-b2fd-ccc290b34157",
   "metadata": {},
   "outputs": [],
   "source": [
    "df = pd.DataFrame(\n",
    "    data=trd.factors[1].T,\n",
    "    index=tasks,\n",
    "    columns=components,\n",
    ")\n",
    "dfs = df / df.max(axis=0)\n",
    "fig = vis.heatmap(dfs, zmin=-1, zmax=1, width=5, height=9, reversescale=True, title=\"Task loadings (normalised)\")\n",
    "if SAVE:\n",
    "    fig.write_image(\"plots/trd-tasks.png\", scale=2)\n",
    "fig.show()\n"
   ]
  },
  {
   "cell_type": "code",
   "execution_count": null,
   "id": "dea368b1-e595-4245-aec0-e277aff9faab",
   "metadata": {},
   "outputs": [],
   "source": [
    "df = pd.DataFrame(\n",
    "    data=trd.factors[2].T,\n",
    "    index=measures,\n",
    "    columns=components,\n",
    ").T\n",
    "df.columns.name = \"Measure\"\n",
    "#df_s =  (df / df.abs().max())\n",
    "df_s =  (df.T / df.T.abs().max()).T\n",
    "\n",
    "\n",
    "fig = vis.heatmap(df_s, width=4, height=5, zmin=-1, zmax=1,reversescale=True, title=\"Measure loadings (Normalised)\")\n",
    "\n",
    "if SAVE:\n",
    "    fig.write_image(\"plots/trd-measures.png\", scale=2)\n",
    "fig.show()\n"
   ]
  },
  {
   "cell_type": "code",
   "execution_count": null,
   "id": "35020073-5983-42b9-a6d9-5993fd69825d",
   "metadata": {},
   "outputs": [],
   "source": []
  }
 ],
 "metadata": {
  "kernelspec": {
   "display_name": "Python 3 (ipykernel)",
   "language": "python",
   "name": "python3"
  },
  "language_info": {
   "codemirror_mode": {
    "name": "ipython",
    "version": 3
   },
   "file_extension": ".py",
   "mimetype": "text/x-python",
   "name": "python",
   "nbconvert_exporter": "python",
   "pygments_lexer": "ipython3",
   "version": "3.13.2"
  }
 },
 "nbformat": 4,
 "nbformat_minor": 5
}
