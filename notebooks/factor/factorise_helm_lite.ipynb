{
 "cells": [
  {
   "cell_type": "markdown",
   "id": "d850db20-4c05-4faf-8f88-c34e55344759",
   "metadata": {},
   "source": [
    "# Apply FA to HELM-lite leaderboard\n",
    "Note - we ran a version of the HELM-lite config with 100 samples per category.\n",
    "However, we got poor coverage of helm-lite features ... and high noise on the features we did have.\n",
    "So take these results with a grain of salt."
   ]
  },
  {
   "cell_type": "code",
   "execution_count": null,
   "id": "9314f016-8a9b-45f8-b472-3ecfa9984589",
   "metadata": {},
   "outputs": [],
   "source": [
    "%load_ext autoreload\n",
    "%autoreload 2\n",
    "import pandas as pd\n",
    "import numpy as np\n",
    "import plotly.graph_objects as go\n",
    "\n",
    "# Local files\n",
    "from lsoc.factor import factor, selection, vis, data "
   ]
  },
  {
   "cell_type": "code",
   "execution_count": null,
   "id": "b52eb256-4582-4929-a732-70d02bfce6db",
   "metadata": {},
   "outputs": [],
   "source": [
    "# Load the helm-lite reference data\n",
    "df = pd.read_csv(data.default_path + \"/evals/helm_lite_1.9.csv\")\n",
    "df.set_index('Model/adapter', inplace=True)\n",
    "display(df.head())\n",
    "print(f\"...({df.shape[0]} rows)\\n\")\n",
    "fresh = True"
   ]
  },
  {
   "cell_type": "code",
   "execution_count": null,
   "id": "0d54913d-2a99-45aa-9c6e-13aa103870c8",
   "metadata": {
    "scrolled": true
   },
   "outputs": [],
   "source": [
    "# Missing analysis\n",
    "if fresh:\n",
    "    fresh = False\n",
    "    missing_per_row = df.isna().sum(axis=1)\n",
    "    # missing_per_row\n",
    "    # df = df[missing_per_row <= 10].copy()\n",
    "    missing_per_col = df.isna().sum()\n",
    "    display(missing_per_row)\n",
    "    df.drop(\"Phi-3 (7B)\", inplace=True)  # only phi-3 is missing any"
   ]
  },
  {
   "cell_type": "code",
   "execution_count": null,
   "id": "4f61c35a-9e82-46c5-9efb-34c1339b59cd",
   "metadata": {},
   "outputs": [],
   "source": [
    "# Holdout model selection\n",
    "from sklearn.preprocessing import StandardScaler\n",
    "scaler = StandardScaler()\n",
    "X_scaled = scaler.fit_transform(df) # is a numpy array\n",
    "\n",
    "# model\n",
    "model = factor.PCA()  # doesn't matter about rotation so let's use the scikit learn one\n",
    "errs = selection.cross_validate(X_scaled, model, max_factors=6, n_folds=10, repeats=3)\n",
    "fig = vis.crossval(*errs, method_name=model.name)\n",
    "fig.show()  # answer - 4 or 5 dimensions\n",
    "\n",
    "# Yep... factor analysis says 3 factors - consistent with burnell paper"
   ]
  },
  {
   "cell_type": "code",
   "execution_count": null,
   "id": "d152c805-ad96-4487-8462-6de9cf590f29",
   "metadata": {},
   "outputs": [],
   "source": [
    "# TODO: get offset working\n",
    "n_components = 3\n",
    "from factor_analyzer import FactorAnalyzer\n",
    "fa_final = FactorAnalyzer(rotation='oblimin', n_factors=n_components)\n",
    "fa_final.fit(X_scaled)\n",
    "\n",
    "\n",
    "#W = fa.fit_transform(imputed)\n",
    "#H = fa.components_\n",
    "H = fa_final.loadings_.T\n",
    "\n",
    "component_names = [f\"PC{i+1}\" for i in range(n_components)]\n",
    "\n",
    "loading_df = pd.DataFrame(\n",
    "    data=H.T,\n",
    "    index=df.columns,\n",
    "    columns=component_names,\n",
    ")\n",
    "\n",
    "loading_df.sort_values(by='PC1', inplace=True, ascending=False)\n",
    "fig = vis.heatmap(\n",
    "    loading_df,\n",
    "    title=\"Task Loadings\",\n",
    "    width=6,\n",
    "    height=12,\n",
    "    reversescale=True\n",
    ")\n",
    "fig.show()"
   ]
  },
  {
   "cell_type": "markdown",
   "id": "bd2a2a11-ae45-4cb9-ae8a-834f0ec9d5fa",
   "metadata": {},
   "source": [
    "Copyright (c) Gradient Institute and Timaeus. All rights reserved.\n",
    "\n",
    "Licensed under the Apache 2.0 License.\n"
   ]
  }
 ],
 "metadata": {
  "kernelspec": {
   "display_name": "Python 3 (ipykernel)",
   "language": "python",
   "name": "python3"
  },
  "language_info": {
   "codemirror_mode": {
    "name": "ipython",
    "version": 3
   },
   "file_extension": ".py",
   "mimetype": "text/x-python",
   "name": "python",
   "nbconvert_exporter": "python",
   "pygments_lexer": "ipython3",
   "version": "3.13.2"
  }
 },
 "nbformat": 4,
 "nbformat_minor": 5
}
