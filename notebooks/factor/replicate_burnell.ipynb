{
 "cells": [
  {
   "cell_type": "markdown",
   "id": "d850db20-4c05-4faf-8f88-c34e55344759",
   "metadata": {},
   "source": [
    "# Replicating Burnell Linear Factors\n",
    "\n",
    "Approximately follows the methodology of Burnell at all. [here](https://arxiv.org/abs/2306.10062).\n",
    "\n",
    "**NOT** an exact reproduction.\n",
    "\n",
    "One key point of difference is the cross validation used for selection of number of features."
   ]
  },
  {
   "cell_type": "code",
   "execution_count": null,
   "id": "9314f016-8a9b-45f8-b472-3ecfa9984589",
   "metadata": {},
   "outputs": [],
   "source": [
    "%load_ext autoreload\n",
    "%autoreload 2\n",
    "import pandas as pd\n",
    "import numpy as np\n",
    "import plotly.graph_objects as go\n",
    "\n",
    "from sklearn.experimental import enable_iterative_imputer\n",
    "from sklearn.impute import IterativeImputer\n",
    "# Local files\n",
    "from lsoc.factor import factor, selection, vis, data"
   ]
  },
  {
   "cell_type": "code",
   "execution_count": null,
   "id": "b52eb256-4582-4929-a732-70d02bfce6db",
   "metadata": {},
   "outputs": [],
   "source": [
    "url = \"https://raw.githubusercontent.com/RyanBurnell/revealing-LLM-capabilities/refs/heads/main/helm_data.csv\"\n",
    "df = pd.read_csv(url)\n",
    "df.set_index('Model', inplace=True)\n",
    "meta = df.iloc[:4]\n",
    "df = df.iloc[4:].astype(float).copy()\n",
    "\n",
    "# Drop missing values\n",
    "missing_per_row = df.isna().sum(axis=1)\n",
    "df = df[missing_per_row <= 5].copy()\n",
    "missing_per_col = df.isna().sum()\n",
    "cols_to_drop = df.columns[missing_per_col > 5]\n",
    "df.drop(columns=cols_to_drop, inplace=True)\n",
    "\n",
    "disqualified_tasks = [\n",
    "    \"MS_MARCO_(regular)_RR@10\",\n",
    "    \"MS_MARCO_(TREC)_NDCG@10\",\n",
    "    \"NaturalQuestions_(open-book)_F1\",\n",
    "    \"MATH_(chain-of-thoughts)_Equivalent_(chain_of_thought)\",\n",
    "    \"Data_imputation_EM\",\n",
    "    \"Entity_matching_EM\"\n",
    "]\n",
    "\n",
    "# impute missing data\n",
    "\n",
    "imp = IterativeImputer(random_state=0)\n",
    "imputed = pd.DataFrame(imp.fit_transform(df), columns=df.columns, index=df.index)\n",
    "imputed.head()\n"
   ]
  },
  {
   "cell_type": "code",
   "execution_count": null,
   "id": "4f61c35a-9e82-46c5-9efb-34c1339b59cd",
   "metadata": {},
   "outputs": [],
   "source": [
    "# Holdout model selection\n",
    "from sklearn.preprocessing import StandardScaler\n",
    "scaler = StandardScaler()\n",
    "X_scaled = scaler.fit_transform(imputed)  # is a numpy array\n",
    "\n",
    "# model\n",
    "model = factor.PCA()  #FA()\n",
    "errs = selection.cross_validate(imputed, model, max_factors=7, n_folds=20, repeats=1)\n",
    "fig = vis.crossval(*errs, method_name=model.name)\n",
    "fig.show()  # answer - 4 or 5 dimensions\n",
    "\n",
    "# Yep... factor analysis says 3 factors - consistent with burnell paper"
   ]
  },
  {
   "cell_type": "code",
   "execution_count": null,
   "id": "d152c805-ad96-4487-8462-6de9cf590f29",
   "metadata": {},
   "outputs": [],
   "source": [
    "# TODO: get offset working\n",
    "n_components = 3\n",
    "from factor_analyzer import FactorAnalyzer\n",
    "fa_final = FactorAnalyzer(rotation='oblimin', n_factors=n_components)\n",
    "fa_final.fit(X_scaled)\n",
    "\n",
    "#W = fa.fit_transform(imputed)\n",
    "#H = fa.components_\n",
    "H = fa_final.loadings_.T\n",
    "\n",
    "component_names = [f\"PC{i+1}\" for i in range(n_components)]\n",
    "\n",
    "loading_df = pd.DataFrame(\n",
    "    data=H.T,\n",
    "    index=imputed.columns,\n",
    "    columns=component_names,\n",
    ")\n",
    "\n",
    "ld = np.abs(loading_df.values)\n",
    "main_load = ld.argmax(axis=1)\n",
    "order = np.argsort(main_load * 100 - ld.max(axis=1))\n",
    "loading_df = loading_df.iloc[order]\n",
    "\n",
    "# flip = loading_df.max(axis=1) != loading_df.abs().max(axis=1)\n",
    "# loading_df[flip] *= -1\n",
    "\n",
    "fig = vis.heatmap(\n",
    "    loading_df,\n",
    "    title=\"Task Loadings\",\n",
    "    width=6,\n",
    "    height=12,\n",
    "    reversescale=True\n",
    ")\n",
    "fig.show()"
   ]
  },
  {
   "cell_type": "markdown",
   "id": "f9a3b909-dafe-42a1-98f4-cd8afafee1f1",
   "metadata": {},
   "source": [
    "Copyright (c) Gradient Institute and Timaeus. All rights reserved.\n",
    "\n",
    "Licensed under the Apache 2.0 License."
   ]
  }
 ],
 "metadata": {
  "kernelspec": {
   "display_name": "Python 3 (ipykernel)",
   "language": "python",
   "name": "python3"
  },
  "language_info": {
   "codemirror_mode": {
    "name": "ipython",
    "version": 3
   },
   "file_extension": ".py",
   "mimetype": "text/x-python",
   "name": "python",
   "nbconvert_exporter": "python",
   "pygments_lexer": "ipython3",
   "version": "3.13.2"
  }
 },
 "nbformat": 4,
 "nbformat_minor": 5
}
