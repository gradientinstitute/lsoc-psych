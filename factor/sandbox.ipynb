{
 "cells": [
  {
   "cell_type": "markdown",
   "id": "73c86e49-dde7-4c20-b0ca-8eba8942a7db",
   "metadata": {},
   "source": [
    "# Matrix factorisation hyperparameter selection\n"
   ]
  },
  {
   "cell_type": "code",
   "execution_count": null,
   "id": "50e4b3e7-85ef-4268-95b5-66a167816a6a",
   "metadata": {},
   "outputs": [],
   "source": [
    "%load_ext autoreload\n",
    "%autoreload 2"
   ]
  },
  {
   "cell_type": "code",
   "execution_count": null,
   "id": "fad5d6f3-888b-479d-bfa2-911969715b16",
   "metadata": {},
   "outputs": [],
   "source": [
    "import numpy as np\n",
    "import matplotlib.pyplot as plt\n",
    "from scipy.optimize import minimize\n",
    "from sklearn.model_selection import KFold\n",
    "%matplotlib inline\n",
    "import factor"
   ]
  },
  {
   "cell_type": "code",
   "execution_count": null,
   "id": "226e97db-e452-463c-ae23-13714765d917",
   "metadata": {},
   "outputs": [],
   "source": [
    "n_models = 20\n",
    "n_tasks = 30\n",
    "true_dims = 5\n",
    "noise = 0.1\n",
    "H_true = np.random.rand(n_models, true_dims)\n",
    "W_true = np.random.rand(true_dims, n_tasks)\n",
    "X = H_true @ W_true / 2.5 + noise * np.random.rand(n_models, n_tasks)\n",
    "plt.imshow(X)\n",
    "plt.colorbar()"
   ]
  },
  {
   "cell_type": "code",
   "execution_count": null,
   "id": "3003b652-3b98-441c-9032-ec2fc329ccf9",
   "metadata": {},
   "outputs": [],
   "source": [
    "# We can do crossval on this later\n",
    "mask = np.random.rand(*X.shape) > 0.8\n",
    "Xm = X.copy()\n",
    "Xm[mask] = 0\n",
    "plt.imshow(Xm)\n",
    "plt.title(\"X with missing data\");"
   ]
  },
  {
   "cell_type": "code",
   "execution_count": null,
   "id": "7200622c-d998-4781-a5f8-9473f0dfe5c5",
   "metadata": {},
   "outputs": [],
   "source": [
    "# How good was the reconstruction?\n",
    "W, H, mu = factor.nmf_init(Xm, mask, true_dims)\n",
    "#W, H, mu = factor.NMF(Xm, true_dims, mask)\n",
    "F = W@H + mu\n",
    "plt.plot(F[~mask], X[~mask], 'bo', alpha=0.3, label=\"Observed data\")\n",
    "plt.plot(F[mask], X[mask], 'ro', alpha=0.9, label=\"Held-out data\")\n",
    "plt.title(\"Reconstructed vs truth\")\n",
    "plt.legend()\n",
    "plt.show()"
   ]
  },
  {
   "cell_type": "code",
   "execution_count": null,
   "id": "839f0977-912e-4607-99f0-ff39e5445f64",
   "metadata": {
    "scrolled": true
   },
   "outputs": [],
   "source": [
    "# Use crossvalidation to select the number of latent factors...\n",
    "n_factors = np.arange(1, 9)\n",
    "\n",
    "n_folds = 10\n",
    "repeats = 10\n",
    "fit_err = []  # seeing all the data\n",
    "heldout_err = []  # crossval\n",
    "heldout_std = []\n",
    "method = factor.PCA\n",
    "#method = factor.NMF\n",
    "\n",
    "n_models, n_tasks = X.shape\n",
    "indices = np.arange(n_models * n_tasks)\n",
    "\n",
    "\n",
    "for dims in n_factors:\n",
    "    print(f\"Evaluating {dims} dimensions...\")\n",
    "    MSEs = []  # Samples losses\n",
    "\n",
    "    for r in range(repeats):   \n",
    "        kf = KFold(n_splits=n_folds, shuffle=True, random_state=42+r)\n",
    "        for train_idx, test_idx in kf.split(indices):\n",
    "            mask = np.zeros((n_models, n_tasks), bool)\n",
    "            mask.flat[test_idx] = True\n",
    "            assert all(mask.shape[1] != mask.sum(axis=1))       \n",
    "            W, H, mu = method(X, dims, mask)\n",
    "            R = W@H + mu  # reconstruction\n",
    "            MSEs.append(np.mean((R[mask] - X[mask])**2))\n",
    "    \n",
    "    heldout_err.append(np.mean(MSEs))  # should be the same\n",
    "    heldout_std.append(np.std(MSEs) / np.sqrt(len(MSEs)))\n",
    "                       \n",
    "    # Control - no masking\n",
    "    mask = np.zeros((n_models, n_tasks), bool)\n",
    "    W, H, mu = method(X, dims)\n",
    "    recon = mu + W@H\n",
    "    fit_err.append(np.mean((recon - X)**2))\n",
    "\n",
    "heldout_err = np.array(heldout_err)\n",
    "heldout_std = np.array(heldout_std)\n",
    "\n",
    "method_name = method.__name__\n",
    "plt.plot(n_factors, fit_err, \"bo-\", label=\"Fit Error\")\n",
    "plt.plot(n_factors, heldout_err, \"ro-\", label=\"Heldout Error\")\n",
    "plt.fill_between(n_factors, heldout_err-2*heldout_std, heldout_err+2*heldout_std, color=\"r\", alpha=0.25)\n",
    "plt.legend()\n",
    "plt.title(method_name + \" factor selection\")\n",
    "plt.show()"
   ]
  },
  {
   "cell_type": "markdown",
   "id": "bce8c224-0150-4001-a05f-1c9bd15f0827",
   "metadata": {},
   "source": [
    "## TODO: Tune Regularisation hyperparameters"
   ]
  },
  {
   "cell_type": "code",
   "execution_count": null,
   "id": "26bbb7ae-f79d-47c3-8504-87150b2db226",
   "metadata": {},
   "outputs": [],
   "source": []
  },
  {
   "cell_type": "markdown",
   "id": "7c22309d-9314-420a-acbd-3ee083687ea3",
   "metadata": {},
   "source": [
    "## TODO: Regularised PCA"
   ]
  },
  {
   "cell_type": "code",
   "execution_count": null,
   "id": "7771b46f-6d35-4584-b402-723b0d602455",
   "metadata": {},
   "outputs": [],
   "source": []
  }
 ],
 "metadata": {
  "kernelspec": {
   "display_name": "Python 3 (ipykernel)",
   "language": "python",
   "name": "python3"
  },
  "language_info": {
   "codemirror_mode": {
    "name": "ipython",
    "version": 3
   },
   "file_extension": ".py",
   "mimetype": "text/x-python",
   "name": "python",
   "nbconvert_exporter": "python",
   "pygments_lexer": "ipython3",
   "version": "3.12.7"
  }
 },
 "nbformat": 4,
 "nbformat_minor": 5
}
