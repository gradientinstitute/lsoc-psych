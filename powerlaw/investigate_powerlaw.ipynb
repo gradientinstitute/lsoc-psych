{
 "cells": [
  {
   "cell_type": "code",
   "execution_count": null,
   "id": "dab9607b-f3d9-4429-8f39-b325fd5b6249",
   "metadata": {},
   "outputs": [],
   "source": [
    "#!pip install ipympl\n",
    "%load_ext autoreload\n",
    "%autoreload 2\n",
    "import fitting as fit\n",
    "import data_utils as dat\n",
    "import vis\n",
    "import plotly.graph_objects as go\n",
    "import numpy as np"
   ]
  },
  {
   "cell_type": "markdown",
   "id": "c6191dd8-605a-41a3-aa32-72bdb425c9d8",
   "metadata": {},
   "source": [
    "# Modelling time dependence"
   ]
  },
  {
   "cell_type": "code",
   "execution_count": null,
   "id": "84fef71e-5173-4c99-907b-ae56b7b2cd22",
   "metadata": {},
   "outputs": [],
   "source": [
    "# Step 1: fit a power law to loss vs time:\n",
    "\n",
    "msize, task = \"410m\", \"arxiv\"\n",
    "df_llc, df_loss = dat.load_dfs(msize, data_path=\"data\")\n",
    "llc, loss, step = dat.trim_trace(df_llc, df_loss, task, 1000, 70000)\n",
    "\n",
    "loss_result = fit.min_fit(step, loss, fit.ShiftedPowerLaw2, rel_noise=True)\n",
    "\n",
    "fig = go.Figure()\n",
    "fig.add_trace(go.Scatter(\n",
    "    x=step, y=loss, mode='markers', \n",
    "    marker=dict(color='blue', size=8),\n",
    "    name='Observed points'))\n",
    "vis.plot_result(fig, step, loss_result, name=\"PowerLaw\")\n",
    "fig.update_layout(width=800, height=600, title=\"Loss vs Time\")\n",
    "fig.update_xaxes(title_text=\"Step\", type=\"log\")\n",
    "fig.update_yaxes(title_text=\"Loss\")\n",
    "fig.show()"
   ]
  },
  {
   "cell_type": "code",
   "execution_count": null,
   "id": "1d00ba6b-f334-4ce7-a668-3df4f025f060",
   "metadata": {},
   "outputs": [],
   "source": [
    "# Step 2: fit LLC vs time\n",
    "# Both models look pretty good\n",
    "\n",
    "# We have two candidates: log and powerlaw (with some quite different parameters to usual)\n",
    "result_pwr = fit.min_fit(step, llc, fit.ShiftedPowerLaw, rel_noise=True, par0=[10., -10., 0.001])\n",
    "result_log = fit.min_fit(step, llc, fit.ShiftedLogarithm, rel_noise=True)\n",
    "\n",
    "fig = go.Figure()\n",
    "fig.add_trace(go.Scatter(\n",
    "    x=step, y=llc, mode='markers', \n",
    "    marker=dict(color='blue', size=8),\n",
    "    name='Observed points'))\n",
    "\n",
    "vis.plot_result(fig, step, result_pwr, name=\"PowerLaw\")\n",
    "vis.plot_result(fig, step, result_log, name=\"Logarithm\")\n",
    "\n",
    "\n",
    "fig.update_xaxes(title_text=\"Step\", type=\"log\")\n",
    "\n",
    "fig.update_yaxes(title_text=\"LLC\")\n",
    "fig.update_layout(width=800, height=600, title=\"LLC vs Time\")\n",
    "fig.show()"
   ]
  },
  {
   "cell_type": "markdown",
   "id": "e66797bf-4a91-453b-bc4f-0ca33d3ca28c",
   "metadata": {},
   "source": [
    "# What does this say about LLC vs loss?"
   ]
  },
  {
   "cell_type": "code",
   "execution_count": null,
   "id": "a6b39cc7-c1ba-4e41-b1bd-d93c0b0b03b2",
   "metadata": {},
   "outputs": [],
   "source": [
    "# now fit a loss-llc relationship\n",
    "\n",
    "\n",
    "fig = go.Figure()\n",
    "\n",
    "fig.add_trace(go.Scatter(\n",
    "    x=loss, y=llc, mode='markers', \n",
    "    marker=dict(color='blue', size=8),\n",
    "    customdata=step, hovertemplate='Step: %{customdata}<extra></extra>',\n",
    "    name='Observed points'))\n",
    "\n",
    "#e_result = fit.min_fit(loss, llc, fit.ShiftedExponential, rel_noise=True)\n",
    "# p_result = fit.min_fit(loss, llc, fit.ShiftedPowerLaw, rel_noise=True)\n",
    "\n",
    "# Note - because i'm putting loss on the x axis, only ord_fit can do this\n",
    "\n",
    "d_result = fit.odr_fit(loss, llc, fit.DoubleShiftedPowerLaw, rel_noise=True)\n",
    "vis.plot_result(fig, loss, d_result, name=\"Direct (double shifted)\")\n",
    "\n",
    "\n",
    "p_result = fit.odr_fit(loss, llc, fit.XShiftedPowerLaw2, rel_noise=True)\n",
    "vis.plot_result(fig, loss, p_result, name=\"Direct (Power Law)\")\n",
    "\n",
    "\n",
    "#vis.plot_result(fig, loss, e_result, name=\"Direct (Exponential)\")\n",
    "\n",
    "# Plot the parametric relationship too\n",
    "q = vis.x_plot(step)  # resample at higher resolution\n",
    "q_llc = result_pwr.f(q)\n",
    "q_loss = loss_result.f(q)\n",
    "fig.add_trace(go.Scatter(\n",
    "    x=q_loss, y=q_llc, mode='lines', \n",
    "    name='Parametric (pwr-pwr)'))\n",
    "\n",
    "u_llc = result_log.f(q)\n",
    "fig.add_trace(go.Scatter(\n",
    "    x=q_loss, y=u_llc, mode='lines', \n",
    "    name='Parametric (pwr-log)'))\n",
    "\n",
    "\n",
    "fig.update_xaxes(title_text=\"loss\")  #, type=\"log\")\n",
    "fig.update_yaxes(title_text=\"LLC\")\n",
    "fig.update_layout(width=800, height=600, title=f\"LLC vs Loss {task}@{msize}\")\n",
    "fig.show()\n"
   ]
  }
 ],
 "metadata": {
  "kernelspec": {
   "display_name": "Python 3 (ipykernel)",
   "language": "python",
   "name": "python3"
  },
  "language_info": {
   "codemirror_mode": {
    "name": "ipython",
    "version": 3
   },
   "file_extension": ".py",
   "mimetype": "text/x-python",
   "name": "python",
   "nbconvert_exporter": "python",
   "pygments_lexer": "ipython3",
   "version": "3.13.1"
  }
 },
 "nbformat": 4,
 "nbformat_minor": 5
}
