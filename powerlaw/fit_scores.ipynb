{
 "cells": [
  {
   "cell_type": "markdown",
   "id": "ca770394-54cc-4d92-9dea-9c719e26b3b9",
   "metadata": {},
   "source": [
    "# Tabulate fit quality with different models\n",
    "\n",
    "## Caution\n",
    "* TODO: need to check that every result converged\n",
    "* TODO: Plot a few samples\n",
    "* TODO: need to figure out appropriate start and finish points\n",
    "* (I may prototype an automatic interval finder)\n"
   ]
  },
  {
   "cell_type": "code",
   "execution_count": null,
   "id": "4df29246-8393-4075-8feb-79b46670a7ba",
   "metadata": {},
   "outputs": [],
   "source": [
    "%load_ext autoreload\n",
    "%autoreload 2\n",
    "import numpy as np\n",
    "import fitting as fit\n",
    "import data_utils as dat\n",
    "import pandas as pd\n",
    "import vis\n",
    "import plotly.graph_objects as go"
   ]
  },
  {
   "cell_type": "code",
   "execution_count": null,
   "id": "9db3b2a3-ba1d-4cd3-95f5-26fcf7f471c2",
   "metadata": {},
   "outputs": [],
   "source": [
    "msizes = {\n",
    "    '14m': (256, 80000),\n",
    "    '31m': (256, 80000),\n",
    "    '70m': (256, 80000),\n",
    "    '160m': (256, 80000),\n",
    "    '410m': (256, 80000),\n",
    "    '1b': (256, 80000)\n",
    "}\n",
    "functions = [\n",
    "    fit.ShiftedPowerLaw2,\n",
    "    fit.DoubleShiftedPowerLaw,\n",
    "    fit.DoubleExponential,\n",
    "]\n",
    "metrics = {\n",
    "    \"R2_log\": fit.logspace_r2,\n",
    "    \"R2_lin\": fit.r2_score,\n",
    "    \"RMSE\": fit.rmse,\n",
    "}\n",
    "compute_diagnostics = False\n",
    "\n",
    "reports = []\n",
    "\n",
    "\n",
    "for msize, (start_step, end_step) in msizes.items():\n",
    "    df_llc, df_loss = dat.load_dfs(msize, data_path=\"data\")\n",
    "    report = []\n",
    "    \n",
    "    for task in df_llc:\n",
    "        for function in functions:\n",
    "            x, y, s = dat.trim_trace(df_llc, df_loss, task, start_step, end_step)\n",
    "            result = fit.min_fit(x, y, function)\n",
    "        \n",
    "            # Evaluate\n",
    "            row = {\n",
    "                \"Model\": \"Pythia\" + msize,\n",
    "                \"Dataset\": task,\n",
    "                \"Function\": function.name,\n",
    "            }\n",
    "            # Actually don't store the parameters because they don't match across methods\n",
    "            # row.update(result.params_dict)\n",
    "            y_pred = result.f(x)\n",
    "           \n",
    "            measures = {k: v(y, y_pred) for k, v in metrics.items()}\n",
    "            row.update(measures)\n",
    "            \n",
    "            if compute_diagnostics:\n",
    "                row.update(result.pcov_diagnostics())\n",
    "    \n",
    "            report.append(row)\n",
    "            \n",
    "    report = pd.DataFrame(report, index=range(len(report)))\n",
    "    display(report)\n",
    "    reports.append(report)"
   ]
  },
  {
   "cell_type": "markdown",
   "id": "05097263-c1df-49c3-a7ea-2d886de0e8ea",
   "metadata": {},
   "source": [
    "# Conclusion - all these models do really well - if we spot a low score perhaps plot it and debug - its likely initial parameters or how we're trimming the series\n"
   ]
  }
 ],
 "metadata": {
  "kernelspec": {
   "display_name": "Python 3 (ipykernel)",
   "language": "python",
   "name": "python3"
  },
  "language_info": {
   "codemirror_mode": {
    "name": "ipython",
    "version": 3
   },
   "file_extension": ".py",
   "mimetype": "text/x-python",
   "name": "python",
   "nbconvert_exporter": "python",
   "pygments_lexer": "ipython3",
   "version": "3.13.1"
  }
 },
 "nbformat": 4,
 "nbformat_minor": 5
}
